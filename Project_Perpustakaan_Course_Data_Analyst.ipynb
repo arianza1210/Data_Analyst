{
  "nbformat": 4,
  "nbformat_minor": 0,
  "metadata": {
    "colab": {
      "provenance": [],
      "authorship_tag": "ABX9TyMgv0x8OfdqoKjPtvgUqqtC",
      "include_colab_link": true
    },
    "kernelspec": {
      "name": "python3",
      "display_name": "Python 3"
    },
    "language_info": {
      "name": "python"
    }
  },
  "cells": [
    {
      "cell_type": "markdown",
      "metadata": {
        "id": "view-in-github",
        "colab_type": "text"
      },
      "source": [
        "<a href=\"https://colab.research.google.com/github/arianza1210/Data_Analyst/blob/main/Project_Perpustakaan_Course_Data_Analyst.ipynb\" target=\"_parent\"><img src=\"https://colab.research.google.com/assets/colab-badge.svg\" alt=\"Open In Colab\"/></a>"
      ]
    },
    {
      "cell_type": "code",
      "execution_count": 1,
      "metadata": {
        "id": "xmpIEtsqliHT"
      },
      "outputs": [],
      "source": [
        "nama_buku1=\"Fisika\"\n",
        "nama_buku2=\"Kimia\"\n",
        "nama_buku3=\"Biologi\"\n",
        "durasi=3"
      ]
    },
    {
      "cell_type": "code",
      "source": [
        "Kode_buku1='Ps_001'\n",
        "Kode_buku2='Ps_002'\n",
        "Kode_buku3='Ps_003'"
      ],
      "metadata": {
        "id": "ZX1QJn5Zlq_L"
      },
      "execution_count": 2,
      "outputs": []
    },
    {
      "cell_type": "code",
      "source": [
        "N_buku_1=N_buku_2=N_buku_3=10"
      ],
      "metadata": {
        "id": "ME60S_QCqSIb"
      },
      "execution_count": 3,
      "outputs": []
    },
    {
      "cell_type": "code",
      "source": [
        "nama_buku=(nama_buku1,nama_buku2,nama_buku3)\n",
        "kode_buku=[Kode_buku1,Kode_buku2,Kode_buku3]\n",
        "N_buku=[N_buku_1,N_buku_2,N_buku_3]"
      ],
      "metadata": {
        "id": "jbO0DC6mqeEC"
      },
      "execution_count": 4,
      "outputs": []
    },
    {
      "cell_type": "markdown",
      "source": [
        "Penambahan Buku"
      ],
      "metadata": {
        "id": "NKDf0-OqrxwD"
      }
    },
    {
      "cell_type": "code",
      "source": [
        "nama_buku=[nama_buku1,nama_buku2,nama_buku3]\n",
        "pustaka={\n",
        "    \"Nama\":nama_buku,\n",
        "    \"Kode\":kode_buku,\n",
        "    \"Jumlah\":N_buku\n",
        "}\n",
        "pustaka"
      ],
      "metadata": {
        "colab": {
          "base_uri": "https://localhost:8080/"
        },
        "id": "jr_54IZvrup7",
        "outputId": "ede07563-6901-4d37-acf0-84401d78560c"
      },
      "execution_count": 5,
      "outputs": [
        {
          "output_type": "execute_result",
          "data": {
            "text/plain": [
              "{'Nama': ['Fisika', 'Kimia', 'Biologi'],\n",
              " 'Kode': ['Ps_001', 'Ps_002', 'Ps_003'],\n",
              " 'Jumlah': [10, 10, 10]}"
            ]
          },
          "metadata": {},
          "execution_count": 5
        }
      ]
    },
    {
      "cell_type": "code",
      "source": [
        "pustaka[\"Nama\"].append(\"Seni\")\n",
        "pustaka[\"Kode\"].append(\"Ps_004\")\n",
        "pustaka[\"Jumlah\"].append(15)\n",
        "print('Buku {} dengan jumlah {}'.format(pustaka[\"Nama\"][-1],\n",
        "                                        pustaka[\"Jumlah\"][-1]))"
      ],
      "metadata": {
        "colab": {
          "base_uri": "https://localhost:8080/"
        },
        "id": "C4VBUjeZsX2j",
        "outputId": "a5225d87-3a40-468c-b80a-066f1588b32d"
      },
      "execution_count": 6,
      "outputs": [
        {
          "output_type": "stream",
          "name": "stdout",
          "text": [
            "Buku Seni dengan jumlah 15\n"
          ]
        }
      ]
    },
    {
      "cell_type": "code",
      "source": [
        "pustaka"
      ],
      "metadata": {
        "colab": {
          "base_uri": "https://localhost:8080/"
        },
        "id": "gIHTIwmRtdqa",
        "outputId": "9e562dd8-27f8-455f-cada-cadfb04a9102"
      },
      "execution_count": 7,
      "outputs": [
        {
          "output_type": "execute_result",
          "data": {
            "text/plain": [
              "{'Nama': ['Fisika', 'Kimia', 'Biologi', 'Seni'],\n",
              " 'Kode': ['Ps_001', 'Ps_002', 'Ps_003', 'Ps_004'],\n",
              " 'Jumlah': [10, 10, 10, 15]}"
            ]
          },
          "metadata": {},
          "execution_count": 7
        }
      ]
    },
    {
      "cell_type": "code",
      "source": [
        "def Data_terakhir():\n",
        "  print(\"Buku yang tersedia:\")\n",
        "  print(\"Nama Buku\\t Kode Buku\\t Jumlah\")\n",
        "  for i in range(len(pustaka['Nama'])):\n",
        "    print(\"Buku {}\\t kode {}\\t {}\".format(\n",
        "    pustaka['Nama'][i],\n",
        "    pustaka['Kode'][i],\n",
        "    pustaka['Jumlah'][i]))"
      ],
      "metadata": {
        "id": "kF3-rXzURW8M"
      },
      "execution_count": 8,
      "outputs": []
    },
    {
      "cell_type": "code",
      "source": [
        "Data_terakhir()"
      ],
      "metadata": {
        "colab": {
          "base_uri": "https://localhost:8080/"
        },
        "id": "GRhOJgVyRc6J",
        "outputId": "f65c9168-0f95-4fab-defd-a38c90bc36c9"
      },
      "execution_count": 9,
      "outputs": [
        {
          "output_type": "stream",
          "name": "stdout",
          "text": [
            "Buku yang tersedia:\n",
            "Nama Buku\t Kode Buku\t Jumlah\n",
            "Buku Fisika\t kode Ps_001\t 10\n",
            "Buku Kimia\t kode Ps_002\t 10\n",
            "Buku Biologi\t kode Ps_003\t 10\n",
            "Buku Seni\t kode Ps_004\t 15\n"
          ]
        }
      ]
    },
    {
      "cell_type": "code",
      "source": [
        "def peminjaman():\n",
        "  print(\"Form Peminjaman\")\n",
        "  varNama=str(input(\"Nama Peminjam =\"))\n",
        "  varBuku=str(input(\"Kode Buku= \"))\n",
        "  for i in range(len(pustaka['Kode'])):\n",
        "    if varBuku==pustaka['Kode'][i] and pustaka['Jumlah'][i]>1:\n",
        "       print(\"Bisa pinjam\".format(varNama))\n",
        "       print(\"Durasi waktu pinjam {} hari\".format(durasi))\n",
        "       pustaka['Jumlah'][i]-=1\n",
        "       break\n",
        "    elif i==len(pustaka['Kode'])-1:\n",
        "       print(\"Tidak bisa dipinjam\")"
      ],
      "metadata": {
        "id": "ErVcECAlRgdc"
      },
      "execution_count": 10,
      "outputs": []
    },
    {
      "cell_type": "code",
      "source": [
        "peminjaman()"
      ],
      "metadata": {
        "colab": {
          "base_uri": "https://localhost:8080/"
        },
        "id": "8FmvfSRIR7pj",
        "outputId": "e5a82882-6bf5-4e47-d418-69f2530b0ced"
      },
      "execution_count": 11,
      "outputs": [
        {
          "output_type": "stream",
          "name": "stdout",
          "text": [
            "Form Peminjaman\n",
            "Nama Peminjam =Pandi\n",
            "Kode Buku= Ps_002\n",
            "Bisa pinjam\n",
            "Durasi waktu pinjam 3 hari\n"
          ]
        }
      ]
    },
    {
      "cell_type": "code",
      "source": [
        "def pengembalian(pustaka=pustaka):\n",
        "  print(\"Form Pengembalian\")\n",
        "  varNama=str(input(\"Nama Peminjam\\t=\"))\n",
        "  varBuku=str(input(\"Kode Buku\\t=\"))\n",
        "  varHari=int(input(\"Jumlah Hari\\t=\"))\n",
        "  for i in range(len(pustaka['Kode'])):\n",
        "    if varBuku==pustaka['Kode'][i]:\n",
        "      if varHari>=durasi:\n",
        "        denda=(varHari-durasi)*1000\n",
        "        print(\"Terima kasih, {}\\nDenda sebesar Rp.{}\".format(varNama,denda))\n",
        "        pustaka['Jumlah'][i]+=1\n",
        "        break\n",
        "      else:\n",
        "        print(\"Terima kasih,{}\".format(varNama,denda))\n",
        "        pustaka['Jumlah'][i]+=1\n",
        "        break\n",
        "    elif i==len(pustaka['Kode'])-1:\n",
        "      print(\"Salah kode\")"
      ],
      "metadata": {
        "id": "fvXllcLoSFcq"
      },
      "execution_count": 12,
      "outputs": []
    },
    {
      "cell_type": "code",
      "source": [
        "pengembalian()"
      ],
      "metadata": {
        "colab": {
          "base_uri": "https://localhost:8080/"
        },
        "id": "y7SSlUNjSVim",
        "outputId": "1e80a946-775e-488c-b987-ca7c96f09d99"
      },
      "execution_count": 13,
      "outputs": [
        {
          "output_type": "stream",
          "name": "stdout",
          "text": [
            "Form Pengembalian\n",
            "Nama Peminjam\t=Pandi\n",
            "Kode Buku\t=Ps_002\n",
            "Jumlah Hari\t=3\n",
            "Terima kasih, Pandi\n",
            "Denda sebesar Rp.0\n"
          ]
        }
      ]
    },
    {
      "cell_type": "code",
      "source": [
        "def tambah_buku(varBuku,varKode,varJumlah):\n",
        "  for i in range(len(pustaka['Kode'])):\n",
        "    if varKode==pustaka['Kode'][i]:\n",
        "      pustaka['Jumlah'][i]+=varJumlah\n",
        "      print(\"Buku {} dengan Jumlah {}\".format(pustaka[\"Nama\"][i],\n",
        "                                              pustaka['Jumlah'][i]))\n",
        "      break\n",
        "    else:\n",
        "      pustaka['Nama'].append(varBuku)\n",
        "      pustaka['Kode'].append(varKode)\n",
        "      pustaka['Jumlah'].append(varJumlah)\n",
        "      print(\"Buku Baru {} dengan Jumlah {}\".format(pustaka[\"Nama\"][-1],\n",
        "                                                   pustaka['Jumlah'][-1]))\n",
        "      break"
      ],
      "metadata": {
        "id": "8hIsSXMsSuqO"
      },
      "execution_count": 14,
      "outputs": []
    },
    {
      "cell_type": "code",
      "source": [
        "Judul=\"Sastra\"\n",
        "Kode=\"Ps_005\"\n",
        "Jumlah=3\n",
        "tambah_buku(Judul,Kode,Jumlah)"
      ],
      "metadata": {
        "colab": {
          "base_uri": "https://localhost:8080/"
        },
        "id": "MqQkFhYKS6tT",
        "outputId": "fb3f87d3-7842-4931-f71e-2f1fd5db451f"
      },
      "execution_count": 15,
      "outputs": [
        {
          "output_type": "stream",
          "name": "stdout",
          "text": [
            "Buku Baru Sastra dengan Jumlah 3\n"
          ]
        }
      ]
    },
    {
      "cell_type": "code",
      "source": [
        "Data_terakhir()"
      ],
      "metadata": {
        "colab": {
          "base_uri": "https://localhost:8080/"
        },
        "id": "yAaSnYm2TXaW",
        "outputId": "af0a7a62-5eb3-4e11-e4dd-59d8d1c9d5f0"
      },
      "execution_count": 16,
      "outputs": [
        {
          "output_type": "stream",
          "name": "stdout",
          "text": [
            "Buku yang tersedia:\n",
            "Nama Buku\t Kode Buku\t Jumlah\n",
            "Buku Fisika\t kode Ps_001\t 10\n",
            "Buku Kimia\t kode Ps_002\t 10\n",
            "Buku Biologi\t kode Ps_003\t 10\n",
            "Buku Seni\t kode Ps_004\t 15\n",
            "Buku Sastra\t kode Ps_005\t 3\n"
          ]
        }
      ]
    },
    {
      "cell_type": "code",
      "source": [
        "import pandas as pd\n",
        "import numpy as np\n",
        "import matplotlib.pyplot as plt"
      ],
      "metadata": {
        "id": "3SCdAYstecez"
      },
      "execution_count": 42,
      "outputs": []
    },
    {
      "cell_type": "code",
      "source": [
        "df=pd.DataFrame(pustaka)"
      ],
      "metadata": {
        "id": "2AWQHwGNefQV"
      },
      "execution_count": 35,
      "outputs": []
    },
    {
      "cell_type": "code",
      "source": [
        "df"
      ],
      "metadata": {
        "colab": {
          "base_uri": "https://localhost:8080/",
          "height": 206
        },
        "id": "QP7xmFaYel5d",
        "outputId": "3be13584-984b-4f34-8cd1-2c635c7c1cdd"
      },
      "execution_count": 36,
      "outputs": [
        {
          "output_type": "execute_result",
          "data": {
            "text/plain": [
              "      Nama    Kode  Jumlah\n",
              "0   Fisika  Ps_001       9\n",
              "1    Kimia  Ps_002      10\n",
              "2  Biologi  Ps_003      10\n",
              "3     Seni  Ps_004      15\n",
              "4   Sastra  Ps_005       3"
            ],
            "text/html": [
              "\n",
              "  <div id=\"df-6248e044-fb4f-4fde-96b7-edc43ba9b0a4\">\n",
              "    <div class=\"colab-df-container\">\n",
              "      <div>\n",
              "<style scoped>\n",
              "    .dataframe tbody tr th:only-of-type {\n",
              "        vertical-align: middle;\n",
              "    }\n",
              "\n",
              "    .dataframe tbody tr th {\n",
              "        vertical-align: top;\n",
              "    }\n",
              "\n",
              "    .dataframe thead th {\n",
              "        text-align: right;\n",
              "    }\n",
              "</style>\n",
              "<table border=\"1\" class=\"dataframe\">\n",
              "  <thead>\n",
              "    <tr style=\"text-align: right;\">\n",
              "      <th></th>\n",
              "      <th>Nama</th>\n",
              "      <th>Kode</th>\n",
              "      <th>Jumlah</th>\n",
              "    </tr>\n",
              "  </thead>\n",
              "  <tbody>\n",
              "    <tr>\n",
              "      <th>0</th>\n",
              "      <td>Fisika</td>\n",
              "      <td>Ps_001</td>\n",
              "      <td>9</td>\n",
              "    </tr>\n",
              "    <tr>\n",
              "      <th>1</th>\n",
              "      <td>Kimia</td>\n",
              "      <td>Ps_002</td>\n",
              "      <td>10</td>\n",
              "    </tr>\n",
              "    <tr>\n",
              "      <th>2</th>\n",
              "      <td>Biologi</td>\n",
              "      <td>Ps_003</td>\n",
              "      <td>10</td>\n",
              "    </tr>\n",
              "    <tr>\n",
              "      <th>3</th>\n",
              "      <td>Seni</td>\n",
              "      <td>Ps_004</td>\n",
              "      <td>15</td>\n",
              "    </tr>\n",
              "    <tr>\n",
              "      <th>4</th>\n",
              "      <td>Sastra</td>\n",
              "      <td>Ps_005</td>\n",
              "      <td>3</td>\n",
              "    </tr>\n",
              "  </tbody>\n",
              "</table>\n",
              "</div>\n",
              "      <button class=\"colab-df-convert\" onclick=\"convertToInteractive('df-6248e044-fb4f-4fde-96b7-edc43ba9b0a4')\"\n",
              "              title=\"Convert this dataframe to an interactive table.\"\n",
              "              style=\"display:none;\">\n",
              "        \n",
              "  <svg xmlns=\"http://www.w3.org/2000/svg\" height=\"24px\"viewBox=\"0 0 24 24\"\n",
              "       width=\"24px\">\n",
              "    <path d=\"M0 0h24v24H0V0z\" fill=\"none\"/>\n",
              "    <path d=\"M18.56 5.44l.94 2.06.94-2.06 2.06-.94-2.06-.94-.94-2.06-.94 2.06-2.06.94zm-11 1L8.5 8.5l.94-2.06 2.06-.94-2.06-.94L8.5 2.5l-.94 2.06-2.06.94zm10 10l.94 2.06.94-2.06 2.06-.94-2.06-.94-.94-2.06-.94 2.06-2.06.94z\"/><path d=\"M17.41 7.96l-1.37-1.37c-.4-.4-.92-.59-1.43-.59-.52 0-1.04.2-1.43.59L10.3 9.45l-7.72 7.72c-.78.78-.78 2.05 0 2.83L4 21.41c.39.39.9.59 1.41.59.51 0 1.02-.2 1.41-.59l7.78-7.78 2.81-2.81c.8-.78.8-2.07 0-2.86zM5.41 20L4 18.59l7.72-7.72 1.47 1.35L5.41 20z\"/>\n",
              "  </svg>\n",
              "      </button>\n",
              "      \n",
              "  <style>\n",
              "    .colab-df-container {\n",
              "      display:flex;\n",
              "      flex-wrap:wrap;\n",
              "      gap: 12px;\n",
              "    }\n",
              "\n",
              "    .colab-df-convert {\n",
              "      background-color: #E8F0FE;\n",
              "      border: none;\n",
              "      border-radius: 50%;\n",
              "      cursor: pointer;\n",
              "      display: none;\n",
              "      fill: #1967D2;\n",
              "      height: 32px;\n",
              "      padding: 0 0 0 0;\n",
              "      width: 32px;\n",
              "    }\n",
              "\n",
              "    .colab-df-convert:hover {\n",
              "      background-color: #E2EBFA;\n",
              "      box-shadow: 0px 1px 2px rgba(60, 64, 67, 0.3), 0px 1px 3px 1px rgba(60, 64, 67, 0.15);\n",
              "      fill: #174EA6;\n",
              "    }\n",
              "\n",
              "    [theme=dark] .colab-df-convert {\n",
              "      background-color: #3B4455;\n",
              "      fill: #D2E3FC;\n",
              "    }\n",
              "\n",
              "    [theme=dark] .colab-df-convert:hover {\n",
              "      background-color: #434B5C;\n",
              "      box-shadow: 0px 1px 3px 1px rgba(0, 0, 0, 0.15);\n",
              "      filter: drop-shadow(0px 1px 2px rgba(0, 0, 0, 0.3));\n",
              "      fill: #FFFFFF;\n",
              "    }\n",
              "  </style>\n",
              "\n",
              "      <script>\n",
              "        const buttonEl =\n",
              "          document.querySelector('#df-6248e044-fb4f-4fde-96b7-edc43ba9b0a4 button.colab-df-convert');\n",
              "        buttonEl.style.display =\n",
              "          google.colab.kernel.accessAllowed ? 'block' : 'none';\n",
              "\n",
              "        async function convertToInteractive(key) {\n",
              "          const element = document.querySelector('#df-6248e044-fb4f-4fde-96b7-edc43ba9b0a4');\n",
              "          const dataTable =\n",
              "            await google.colab.kernel.invokeFunction('convertToInteractive',\n",
              "                                                     [key], {});\n",
              "          if (!dataTable) return;\n",
              "\n",
              "          const docLinkHtml = 'Like what you see? Visit the ' +\n",
              "            '<a target=\"_blank\" href=https://colab.research.google.com/notebooks/data_table.ipynb>data table notebook</a>'\n",
              "            + ' to learn more about interactive tables.';\n",
              "          element.innerHTML = '';\n",
              "          dataTable['output_type'] = 'display_data';\n",
              "          await google.colab.output.renderOutput(dataTable, element);\n",
              "          const docLink = document.createElement('div');\n",
              "          docLink.innerHTML = docLinkHtml;\n",
              "          element.appendChild(docLink);\n",
              "        }\n",
              "      </script>\n",
              "    </div>\n",
              "  </div>\n",
              "  "
            ]
          },
          "metadata": {},
          "execution_count": 36
        }
      ]
    },
    {
      "cell_type": "code",
      "source": [
        "len(df)"
      ],
      "metadata": {
        "colab": {
          "base_uri": "https://localhost:8080/"
        },
        "id": "OC4MhPRqevhP",
        "outputId": "1a790123-6385-42cd-9fca-13e9bf24a653"
      },
      "execution_count": 20,
      "outputs": [
        {
          "output_type": "execute_result",
          "data": {
            "text/plain": [
              "5"
            ]
          },
          "metadata": {},
          "execution_count": 20
        }
      ]
    },
    {
      "cell_type": "code",
      "source": [
        "def peminjaman_df(durasi=durasi):\n",
        "  print(\"Form Peminjaman\")\n",
        "  varNama=str(input(\"Nama Peminjam =\"))\n",
        "  varBuku=str(input(\"Kode Buku= \"))\n",
        "  for i in range(len(df)):\n",
        "    if (varBuku==df['Kode'].iloc[i] and df['Jumlah'].iloc[i]>1):\n",
        "      print(\"Bisa pinjam {}\".format(varNama))\n",
        "      print(\"Durasi waktu pinjam {} hari\".format(durasi))\n",
        "      df.at[i,'Jumlah']-=1\n",
        "      return df\n",
        "      break\n",
        "    elif i==len(df):\n",
        "      print(\"Tidak bisa dipinjam\")"
      ],
      "metadata": {
        "id": "598QfXLJggc8"
      },
      "execution_count": 21,
      "outputs": []
    },
    {
      "cell_type": "code",
      "source": [
        "def pengembalian_df(durasi=durasi):\n",
        "  print(\"Form Pengembalian\")\n",
        "  varNama=str(input(\"Nama Peminjam\\t=\"))\n",
        "  varBuku=str(input(\"Kode Buku\\t=\"))\n",
        "  varHari=int(input(\"Jumlah Hari\\t=\"))\n",
        "  for i in range(len(df)):\n",
        "    if varBuku==df['Kode'].iloc[i]:\n",
        "      if varHari>=durasi:\n",
        "        denda=(varHari-durasi)*1000\n",
        "        print(\"Terima kasih, {}\\nDenda sebesar Rp.{}\".format(varNama,denda))\n",
        "        df.at[i,'Jumlah']+=1\n",
        "        return df\n",
        "        break\n",
        "      else:\n",
        "        print(\"Terima kasih,{}\".format(varNama))\n",
        "        varBar=df['Jumlah'].iloc[i]\n",
        "        df.at[i,'Jumlah']+=1\n",
        "        return df\n",
        "        break\n",
        "    elif i==len(df)-1:\n",
        "      print(\"Salah kode\")"
      ],
      "metadata": {
        "id": "oRdMJuAhgwzZ"
      },
      "execution_count": 22,
      "outputs": []
    },
    {
      "cell_type": "code",
      "source": [
        "def tambah_buku_df(varBuku,varKode,varJumlah,df=df):\n",
        "  for i in range(len(df)):\n",
        "    if varKode==df['Kode'].iloc[i]:\n",
        "      df.at[i,'Jumlah']+=varJumlah\n",
        "      return df\n",
        "      print(\"Buku {} dengan Jumlah {}\".format(df[\"Nama\"].iloc[i],\n",
        "      df['Jumlah'].iloc[i]))\n",
        "      break\n",
        "    else:\n",
        "      var1={\"Nama\":varBuku,\n",
        "            \"Kode\":varKode,\n",
        "            \"Jumlah\":varJumlah}\n",
        "      df=df.append(var1, ignore_index=True)\n",
        "      print(\"Buku Baru {} dengan Jumlah {}\".format(df[\"Nama\"].iloc[-1],\n",
        "                                                         df['Jumlah'].iloc[-1]))\n",
        "      return df\n",
        "      break\n",
        "     "
      ],
      "metadata": {
        "id": "ExcwuUMyhMm2"
      },
      "execution_count": 39,
      "outputs": []
    },
    {
      "cell_type": "code",
      "source": [
        "df"
      ],
      "metadata": {
        "id": "VNM3Sb1BiTwP"
      },
      "execution_count": 34,
      "outputs": []
    },
    {
      "cell_type": "code",
      "source": [
        "df=peminjaman()"
      ],
      "metadata": {
        "colab": {
          "base_uri": "https://localhost:8080/"
        },
        "id": "kfPAsuPaiYnM",
        "outputId": "93aee09f-1843-4c2e-8ba8-5c8a1b657243"
      },
      "execution_count": 26,
      "outputs": [
        {
          "output_type": "stream",
          "name": "stdout",
          "text": [
            "Form Peminjaman\n",
            "Nama Peminjam =Pandi\n",
            "Kode Buku= Ps_001\n",
            "Bisa pinjam\n",
            "Durasi waktu pinjam 3 hari\n"
          ]
        }
      ]
    },
    {
      "cell_type": "code",
      "source": [
        "df"
      ],
      "metadata": {
        "colab": {
          "base_uri": "https://localhost:8080/",
          "height": 206
        },
        "id": "OKpwnpdmifE0",
        "outputId": "003ec599-8120-4b8f-a2aa-cb7988d6801e"
      },
      "execution_count": 37,
      "outputs": [
        {
          "output_type": "execute_result",
          "data": {
            "text/plain": [
              "      Nama    Kode  Jumlah\n",
              "0   Fisika  Ps_001       9\n",
              "1    Kimia  Ps_002      10\n",
              "2  Biologi  Ps_003      10\n",
              "3     Seni  Ps_004      15\n",
              "4   Sastra  Ps_005       3"
            ],
            "text/html": [
              "\n",
              "  <div id=\"df-f2789f6a-61d1-4db4-b979-9572849bbf33\">\n",
              "    <div class=\"colab-df-container\">\n",
              "      <div>\n",
              "<style scoped>\n",
              "    .dataframe tbody tr th:only-of-type {\n",
              "        vertical-align: middle;\n",
              "    }\n",
              "\n",
              "    .dataframe tbody tr th {\n",
              "        vertical-align: top;\n",
              "    }\n",
              "\n",
              "    .dataframe thead th {\n",
              "        text-align: right;\n",
              "    }\n",
              "</style>\n",
              "<table border=\"1\" class=\"dataframe\">\n",
              "  <thead>\n",
              "    <tr style=\"text-align: right;\">\n",
              "      <th></th>\n",
              "      <th>Nama</th>\n",
              "      <th>Kode</th>\n",
              "      <th>Jumlah</th>\n",
              "    </tr>\n",
              "  </thead>\n",
              "  <tbody>\n",
              "    <tr>\n",
              "      <th>0</th>\n",
              "      <td>Fisika</td>\n",
              "      <td>Ps_001</td>\n",
              "      <td>9</td>\n",
              "    </tr>\n",
              "    <tr>\n",
              "      <th>1</th>\n",
              "      <td>Kimia</td>\n",
              "      <td>Ps_002</td>\n",
              "      <td>10</td>\n",
              "    </tr>\n",
              "    <tr>\n",
              "      <th>2</th>\n",
              "      <td>Biologi</td>\n",
              "      <td>Ps_003</td>\n",
              "      <td>10</td>\n",
              "    </tr>\n",
              "    <tr>\n",
              "      <th>3</th>\n",
              "      <td>Seni</td>\n",
              "      <td>Ps_004</td>\n",
              "      <td>15</td>\n",
              "    </tr>\n",
              "    <tr>\n",
              "      <th>4</th>\n",
              "      <td>Sastra</td>\n",
              "      <td>Ps_005</td>\n",
              "      <td>3</td>\n",
              "    </tr>\n",
              "  </tbody>\n",
              "</table>\n",
              "</div>\n",
              "      <button class=\"colab-df-convert\" onclick=\"convertToInteractive('df-f2789f6a-61d1-4db4-b979-9572849bbf33')\"\n",
              "              title=\"Convert this dataframe to an interactive table.\"\n",
              "              style=\"display:none;\">\n",
              "        \n",
              "  <svg xmlns=\"http://www.w3.org/2000/svg\" height=\"24px\"viewBox=\"0 0 24 24\"\n",
              "       width=\"24px\">\n",
              "    <path d=\"M0 0h24v24H0V0z\" fill=\"none\"/>\n",
              "    <path d=\"M18.56 5.44l.94 2.06.94-2.06 2.06-.94-2.06-.94-.94-2.06-.94 2.06-2.06.94zm-11 1L8.5 8.5l.94-2.06 2.06-.94-2.06-.94L8.5 2.5l-.94 2.06-2.06.94zm10 10l.94 2.06.94-2.06 2.06-.94-2.06-.94-.94-2.06-.94 2.06-2.06.94z\"/><path d=\"M17.41 7.96l-1.37-1.37c-.4-.4-.92-.59-1.43-.59-.52 0-1.04.2-1.43.59L10.3 9.45l-7.72 7.72c-.78.78-.78 2.05 0 2.83L4 21.41c.39.39.9.59 1.41.59.51 0 1.02-.2 1.41-.59l7.78-7.78 2.81-2.81c.8-.78.8-2.07 0-2.86zM5.41 20L4 18.59l7.72-7.72 1.47 1.35L5.41 20z\"/>\n",
              "  </svg>\n",
              "      </button>\n",
              "      \n",
              "  <style>\n",
              "    .colab-df-container {\n",
              "      display:flex;\n",
              "      flex-wrap:wrap;\n",
              "      gap: 12px;\n",
              "    }\n",
              "\n",
              "    .colab-df-convert {\n",
              "      background-color: #E8F0FE;\n",
              "      border: none;\n",
              "      border-radius: 50%;\n",
              "      cursor: pointer;\n",
              "      display: none;\n",
              "      fill: #1967D2;\n",
              "      height: 32px;\n",
              "      padding: 0 0 0 0;\n",
              "      width: 32px;\n",
              "    }\n",
              "\n",
              "    .colab-df-convert:hover {\n",
              "      background-color: #E2EBFA;\n",
              "      box-shadow: 0px 1px 2px rgba(60, 64, 67, 0.3), 0px 1px 3px 1px rgba(60, 64, 67, 0.15);\n",
              "      fill: #174EA6;\n",
              "    }\n",
              "\n",
              "    [theme=dark] .colab-df-convert {\n",
              "      background-color: #3B4455;\n",
              "      fill: #D2E3FC;\n",
              "    }\n",
              "\n",
              "    [theme=dark] .colab-df-convert:hover {\n",
              "      background-color: #434B5C;\n",
              "      box-shadow: 0px 1px 3px 1px rgba(0, 0, 0, 0.15);\n",
              "      filter: drop-shadow(0px 1px 2px rgba(0, 0, 0, 0.3));\n",
              "      fill: #FFFFFF;\n",
              "    }\n",
              "  </style>\n",
              "\n",
              "      <script>\n",
              "        const buttonEl =\n",
              "          document.querySelector('#df-f2789f6a-61d1-4db4-b979-9572849bbf33 button.colab-df-convert');\n",
              "        buttonEl.style.display =\n",
              "          google.colab.kernel.accessAllowed ? 'block' : 'none';\n",
              "\n",
              "        async function convertToInteractive(key) {\n",
              "          const element = document.querySelector('#df-f2789f6a-61d1-4db4-b979-9572849bbf33');\n",
              "          const dataTable =\n",
              "            await google.colab.kernel.invokeFunction('convertToInteractive',\n",
              "                                                     [key], {});\n",
              "          if (!dataTable) return;\n",
              "\n",
              "          const docLinkHtml = 'Like what you see? Visit the ' +\n",
              "            '<a target=\"_blank\" href=https://colab.research.google.com/notebooks/data_table.ipynb>data table notebook</a>'\n",
              "            + ' to learn more about interactive tables.';\n",
              "          element.innerHTML = '';\n",
              "          dataTable['output_type'] = 'display_data';\n",
              "          await google.colab.output.renderOutput(dataTable, element);\n",
              "          const docLink = document.createElement('div');\n",
              "          docLink.innerHTML = docLinkHtml;\n",
              "          element.appendChild(docLink);\n",
              "        }\n",
              "      </script>\n",
              "    </div>\n",
              "  </div>\n",
              "  "
            ]
          },
          "metadata": {},
          "execution_count": 37
        }
      ]
    },
    {
      "cell_type": "code",
      "source": [
        "Judul=\"Astronomi\"\n",
        "Kode=\"PS_006\"\n",
        "Jumlah=5\n",
        "df=tambah_buku_df(Judul,Kode,Jumlah)"
      ],
      "metadata": {
        "colab": {
          "base_uri": "https://localhost:8080/"
        },
        "id": "XuZZ3ZznjK7l",
        "outputId": "1b393335-8125-4bb9-dbc5-4002c7d969f0"
      },
      "execution_count": 40,
      "outputs": [
        {
          "output_type": "stream",
          "name": "stdout",
          "text": [
            "Buku Baru Astronomi dengan Jumlah 5\n"
          ]
        }
      ]
    },
    {
      "cell_type": "code",
      "source": [
        "df"
      ],
      "metadata": {
        "colab": {
          "base_uri": "https://localhost:8080/",
          "height": 238
        },
        "id": "HVoqkCbWjhqv",
        "outputId": "42d491ac-b95a-40f6-967e-66efe7fd0f70"
      },
      "execution_count": 41,
      "outputs": [
        {
          "output_type": "execute_result",
          "data": {
            "text/plain": [
              "        Nama    Kode  Jumlah\n",
              "0     Fisika  Ps_001       9\n",
              "1      Kimia  Ps_002      10\n",
              "2    Biologi  Ps_003      10\n",
              "3       Seni  Ps_004      15\n",
              "4     Sastra  Ps_005       3\n",
              "5  Astronomi  PS_006       5"
            ],
            "text/html": [
              "\n",
              "  <div id=\"df-b8b383e8-69e8-4875-a874-7b2a59784222\">\n",
              "    <div class=\"colab-df-container\">\n",
              "      <div>\n",
              "<style scoped>\n",
              "    .dataframe tbody tr th:only-of-type {\n",
              "        vertical-align: middle;\n",
              "    }\n",
              "\n",
              "    .dataframe tbody tr th {\n",
              "        vertical-align: top;\n",
              "    }\n",
              "\n",
              "    .dataframe thead th {\n",
              "        text-align: right;\n",
              "    }\n",
              "</style>\n",
              "<table border=\"1\" class=\"dataframe\">\n",
              "  <thead>\n",
              "    <tr style=\"text-align: right;\">\n",
              "      <th></th>\n",
              "      <th>Nama</th>\n",
              "      <th>Kode</th>\n",
              "      <th>Jumlah</th>\n",
              "    </tr>\n",
              "  </thead>\n",
              "  <tbody>\n",
              "    <tr>\n",
              "      <th>0</th>\n",
              "      <td>Fisika</td>\n",
              "      <td>Ps_001</td>\n",
              "      <td>9</td>\n",
              "    </tr>\n",
              "    <tr>\n",
              "      <th>1</th>\n",
              "      <td>Kimia</td>\n",
              "      <td>Ps_002</td>\n",
              "      <td>10</td>\n",
              "    </tr>\n",
              "    <tr>\n",
              "      <th>2</th>\n",
              "      <td>Biologi</td>\n",
              "      <td>Ps_003</td>\n",
              "      <td>10</td>\n",
              "    </tr>\n",
              "    <tr>\n",
              "      <th>3</th>\n",
              "      <td>Seni</td>\n",
              "      <td>Ps_004</td>\n",
              "      <td>15</td>\n",
              "    </tr>\n",
              "    <tr>\n",
              "      <th>4</th>\n",
              "      <td>Sastra</td>\n",
              "      <td>Ps_005</td>\n",
              "      <td>3</td>\n",
              "    </tr>\n",
              "    <tr>\n",
              "      <th>5</th>\n",
              "      <td>Astronomi</td>\n",
              "      <td>PS_006</td>\n",
              "      <td>5</td>\n",
              "    </tr>\n",
              "  </tbody>\n",
              "</table>\n",
              "</div>\n",
              "      <button class=\"colab-df-convert\" onclick=\"convertToInteractive('df-b8b383e8-69e8-4875-a874-7b2a59784222')\"\n",
              "              title=\"Convert this dataframe to an interactive table.\"\n",
              "              style=\"display:none;\">\n",
              "        \n",
              "  <svg xmlns=\"http://www.w3.org/2000/svg\" height=\"24px\"viewBox=\"0 0 24 24\"\n",
              "       width=\"24px\">\n",
              "    <path d=\"M0 0h24v24H0V0z\" fill=\"none\"/>\n",
              "    <path d=\"M18.56 5.44l.94 2.06.94-2.06 2.06-.94-2.06-.94-.94-2.06-.94 2.06-2.06.94zm-11 1L8.5 8.5l.94-2.06 2.06-.94-2.06-.94L8.5 2.5l-.94 2.06-2.06.94zm10 10l.94 2.06.94-2.06 2.06-.94-2.06-.94-.94-2.06-.94 2.06-2.06.94z\"/><path d=\"M17.41 7.96l-1.37-1.37c-.4-.4-.92-.59-1.43-.59-.52 0-1.04.2-1.43.59L10.3 9.45l-7.72 7.72c-.78.78-.78 2.05 0 2.83L4 21.41c.39.39.9.59 1.41.59.51 0 1.02-.2 1.41-.59l7.78-7.78 2.81-2.81c.8-.78.8-2.07 0-2.86zM5.41 20L4 18.59l7.72-7.72 1.47 1.35L5.41 20z\"/>\n",
              "  </svg>\n",
              "      </button>\n",
              "      \n",
              "  <style>\n",
              "    .colab-df-container {\n",
              "      display:flex;\n",
              "      flex-wrap:wrap;\n",
              "      gap: 12px;\n",
              "    }\n",
              "\n",
              "    .colab-df-convert {\n",
              "      background-color: #E8F0FE;\n",
              "      border: none;\n",
              "      border-radius: 50%;\n",
              "      cursor: pointer;\n",
              "      display: none;\n",
              "      fill: #1967D2;\n",
              "      height: 32px;\n",
              "      padding: 0 0 0 0;\n",
              "      width: 32px;\n",
              "    }\n",
              "\n",
              "    .colab-df-convert:hover {\n",
              "      background-color: #E2EBFA;\n",
              "      box-shadow: 0px 1px 2px rgba(60, 64, 67, 0.3), 0px 1px 3px 1px rgba(60, 64, 67, 0.15);\n",
              "      fill: #174EA6;\n",
              "    }\n",
              "\n",
              "    [theme=dark] .colab-df-convert {\n",
              "      background-color: #3B4455;\n",
              "      fill: #D2E3FC;\n",
              "    }\n",
              "\n",
              "    [theme=dark] .colab-df-convert:hover {\n",
              "      background-color: #434B5C;\n",
              "      box-shadow: 0px 1px 3px 1px rgba(0, 0, 0, 0.15);\n",
              "      filter: drop-shadow(0px 1px 2px rgba(0, 0, 0, 0.3));\n",
              "      fill: #FFFFFF;\n",
              "    }\n",
              "  </style>\n",
              "\n",
              "      <script>\n",
              "        const buttonEl =\n",
              "          document.querySelector('#df-b8b383e8-69e8-4875-a874-7b2a59784222 button.colab-df-convert');\n",
              "        buttonEl.style.display =\n",
              "          google.colab.kernel.accessAllowed ? 'block' : 'none';\n",
              "\n",
              "        async function convertToInteractive(key) {\n",
              "          const element = document.querySelector('#df-b8b383e8-69e8-4875-a874-7b2a59784222');\n",
              "          const dataTable =\n",
              "            await google.colab.kernel.invokeFunction('convertToInteractive',\n",
              "                                                     [key], {});\n",
              "          if (!dataTable) return;\n",
              "\n",
              "          const docLinkHtml = 'Like what you see? Visit the ' +\n",
              "            '<a target=\"_blank\" href=https://colab.research.google.com/notebooks/data_table.ipynb>data table notebook</a>'\n",
              "            + ' to learn more about interactive tables.';\n",
              "          element.innerHTML = '';\n",
              "          dataTable['output_type'] = 'display_data';\n",
              "          await google.colab.output.renderOutput(dataTable, element);\n",
              "          const docLink = document.createElement('div');\n",
              "          docLink.innerHTML = docLinkHtml;\n",
              "          element.appendChild(docLink);\n",
              "        }\n",
              "      </script>\n",
              "    </div>\n",
              "  </div>\n",
              "  "
            ]
          },
          "metadata": {},
          "execution_count": 41
        }
      ]
    },
    {
      "cell_type": "code",
      "source": [
        "\n",
        "df['Pinjam']=np.random.randint(1,9,len(df))"
      ],
      "metadata": {
        "id": "L_kBDAGJxvvm"
      },
      "execution_count": 47,
      "outputs": []
    },
    {
      "cell_type": "code",
      "source": [
        "df"
      ],
      "metadata": {
        "colab": {
          "base_uri": "https://localhost:8080/",
          "height": 238
        },
        "id": "OMZeLFyHylRI",
        "outputId": "af173116-d34c-4631-b445-d99c26dca82d"
      },
      "execution_count": 48,
      "outputs": [
        {
          "output_type": "execute_result",
          "data": {
            "text/plain": [
              "        Nama    Kode  Jumlah  Pinjam\n",
              "0     Fisika  Ps_001       9       2\n",
              "1      Kimia  Ps_002      10       6\n",
              "2    Biologi  Ps_003      10       3\n",
              "3       Seni  Ps_004      15       5\n",
              "4     Sastra  Ps_005       3       1\n",
              "5  Astronomi  PS_006       5       6"
            ],
            "text/html": [
              "\n",
              "  <div id=\"df-909efb1f-642f-4e74-b923-6a301326209e\">\n",
              "    <div class=\"colab-df-container\">\n",
              "      <div>\n",
              "<style scoped>\n",
              "    .dataframe tbody tr th:only-of-type {\n",
              "        vertical-align: middle;\n",
              "    }\n",
              "\n",
              "    .dataframe tbody tr th {\n",
              "        vertical-align: top;\n",
              "    }\n",
              "\n",
              "    .dataframe thead th {\n",
              "        text-align: right;\n",
              "    }\n",
              "</style>\n",
              "<table border=\"1\" class=\"dataframe\">\n",
              "  <thead>\n",
              "    <tr style=\"text-align: right;\">\n",
              "      <th></th>\n",
              "      <th>Nama</th>\n",
              "      <th>Kode</th>\n",
              "      <th>Jumlah</th>\n",
              "      <th>Pinjam</th>\n",
              "    </tr>\n",
              "  </thead>\n",
              "  <tbody>\n",
              "    <tr>\n",
              "      <th>0</th>\n",
              "      <td>Fisika</td>\n",
              "      <td>Ps_001</td>\n",
              "      <td>9</td>\n",
              "      <td>2</td>\n",
              "    </tr>\n",
              "    <tr>\n",
              "      <th>1</th>\n",
              "      <td>Kimia</td>\n",
              "      <td>Ps_002</td>\n",
              "      <td>10</td>\n",
              "      <td>6</td>\n",
              "    </tr>\n",
              "    <tr>\n",
              "      <th>2</th>\n",
              "      <td>Biologi</td>\n",
              "      <td>Ps_003</td>\n",
              "      <td>10</td>\n",
              "      <td>3</td>\n",
              "    </tr>\n",
              "    <tr>\n",
              "      <th>3</th>\n",
              "      <td>Seni</td>\n",
              "      <td>Ps_004</td>\n",
              "      <td>15</td>\n",
              "      <td>5</td>\n",
              "    </tr>\n",
              "    <tr>\n",
              "      <th>4</th>\n",
              "      <td>Sastra</td>\n",
              "      <td>Ps_005</td>\n",
              "      <td>3</td>\n",
              "      <td>1</td>\n",
              "    </tr>\n",
              "    <tr>\n",
              "      <th>5</th>\n",
              "      <td>Astronomi</td>\n",
              "      <td>PS_006</td>\n",
              "      <td>5</td>\n",
              "      <td>6</td>\n",
              "    </tr>\n",
              "  </tbody>\n",
              "</table>\n",
              "</div>\n",
              "      <button class=\"colab-df-convert\" onclick=\"convertToInteractive('df-909efb1f-642f-4e74-b923-6a301326209e')\"\n",
              "              title=\"Convert this dataframe to an interactive table.\"\n",
              "              style=\"display:none;\">\n",
              "        \n",
              "  <svg xmlns=\"http://www.w3.org/2000/svg\" height=\"24px\"viewBox=\"0 0 24 24\"\n",
              "       width=\"24px\">\n",
              "    <path d=\"M0 0h24v24H0V0z\" fill=\"none\"/>\n",
              "    <path d=\"M18.56 5.44l.94 2.06.94-2.06 2.06-.94-2.06-.94-.94-2.06-.94 2.06-2.06.94zm-11 1L8.5 8.5l.94-2.06 2.06-.94-2.06-.94L8.5 2.5l-.94 2.06-2.06.94zm10 10l.94 2.06.94-2.06 2.06-.94-2.06-.94-.94-2.06-.94 2.06-2.06.94z\"/><path d=\"M17.41 7.96l-1.37-1.37c-.4-.4-.92-.59-1.43-.59-.52 0-1.04.2-1.43.59L10.3 9.45l-7.72 7.72c-.78.78-.78 2.05 0 2.83L4 21.41c.39.39.9.59 1.41.59.51 0 1.02-.2 1.41-.59l7.78-7.78 2.81-2.81c.8-.78.8-2.07 0-2.86zM5.41 20L4 18.59l7.72-7.72 1.47 1.35L5.41 20z\"/>\n",
              "  </svg>\n",
              "      </button>\n",
              "      \n",
              "  <style>\n",
              "    .colab-df-container {\n",
              "      display:flex;\n",
              "      flex-wrap:wrap;\n",
              "      gap: 12px;\n",
              "    }\n",
              "\n",
              "    .colab-df-convert {\n",
              "      background-color: #E8F0FE;\n",
              "      border: none;\n",
              "      border-radius: 50%;\n",
              "      cursor: pointer;\n",
              "      display: none;\n",
              "      fill: #1967D2;\n",
              "      height: 32px;\n",
              "      padding: 0 0 0 0;\n",
              "      width: 32px;\n",
              "    }\n",
              "\n",
              "    .colab-df-convert:hover {\n",
              "      background-color: #E2EBFA;\n",
              "      box-shadow: 0px 1px 2px rgba(60, 64, 67, 0.3), 0px 1px 3px 1px rgba(60, 64, 67, 0.15);\n",
              "      fill: #174EA6;\n",
              "    }\n",
              "\n",
              "    [theme=dark] .colab-df-convert {\n",
              "      background-color: #3B4455;\n",
              "      fill: #D2E3FC;\n",
              "    }\n",
              "\n",
              "    [theme=dark] .colab-df-convert:hover {\n",
              "      background-color: #434B5C;\n",
              "      box-shadow: 0px 1px 3px 1px rgba(0, 0, 0, 0.15);\n",
              "      filter: drop-shadow(0px 1px 2px rgba(0, 0, 0, 0.3));\n",
              "      fill: #FFFFFF;\n",
              "    }\n",
              "  </style>\n",
              "\n",
              "      <script>\n",
              "        const buttonEl =\n",
              "          document.querySelector('#df-909efb1f-642f-4e74-b923-6a301326209e button.colab-df-convert');\n",
              "        buttonEl.style.display =\n",
              "          google.colab.kernel.accessAllowed ? 'block' : 'none';\n",
              "\n",
              "        async function convertToInteractive(key) {\n",
              "          const element = document.querySelector('#df-909efb1f-642f-4e74-b923-6a301326209e');\n",
              "          const dataTable =\n",
              "            await google.colab.kernel.invokeFunction('convertToInteractive',\n",
              "                                                     [key], {});\n",
              "          if (!dataTable) return;\n",
              "\n",
              "          const docLinkHtml = 'Like what you see? Visit the ' +\n",
              "            '<a target=\"_blank\" href=https://colab.research.google.com/notebooks/data_table.ipynb>data table notebook</a>'\n",
              "            + ' to learn more about interactive tables.';\n",
              "          element.innerHTML = '';\n",
              "          dataTable['output_type'] = 'display_data';\n",
              "          await google.colab.output.renderOutput(dataTable, element);\n",
              "          const docLink = document.createElement('div');\n",
              "          docLink.innerHTML = docLinkHtml;\n",
              "          element.appendChild(docLink);\n",
              "        }\n",
              "      </script>\n",
              "    </div>\n",
              "  </div>\n",
              "  "
            ]
          },
          "metadata": {},
          "execution_count": 48
        }
      ]
    },
    {
      "cell_type": "code",
      "source": [
        "def peminjaman_df(durasi=durasi):\n",
        "  print(\"Form Peminjaman\")\n",
        "  varNama=str(input(\"Nama Peminjam =\"))\n",
        "  varBuku=str(input(\"Kode Buku= \"))\n",
        "  for i in range(len(df)):\n",
        "    if (varBuku==df['Kode'].iloc[i] and df['Jumlah'].iloc[i]>1):\n",
        "      print(\"Bisa pinjam {}\".format(varNama))\n",
        "      print(\"Durasi waktu pinjam {} hari\".format(durasi))\n",
        "      df.at[i,'Jumlah']-=1\n",
        "      df.at[i,'Pinjam']+=1\n",
        "      return df\n",
        "      break\n",
        "    elif i==len(df):\n",
        "      print(\"Tidak bisa dipinjam\")"
      ],
      "metadata": {
        "id": "4XdybJJpyvTo"
      },
      "execution_count": 49,
      "outputs": []
    },
    {
      "cell_type": "code",
      "source": [
        "def pengembalian_df(durasi=durasi):\n",
        "  print(\"Form Pengembalian\")\n",
        "  varNama=str(input(\"Nama Peminjam\\t=\"))\n",
        "  varBuku=str(input(\"Kode Buku\\t=\"))\n",
        "  varHari=int(input(\"Jumlah Hari\\t=\"))\n",
        "  for i in range(len(df)):\n",
        "    if varBuku==df['Kode'].iloc[i]:\n",
        "      if varHari>=durasi:\n",
        "        denda=(varHari-durasi)*1000\n",
        "        print(\"Terima kasih, {}\\nDenda sebesar Rp.{}\".format(varNama,denda))\n",
        "        df.at[i,'Jumlah']+=1\n",
        "        df.at[i,'Pinjam']-=1\n",
        "        return df\n",
        "        break\n",
        "      else:\n",
        "        print(\"Terima kasih,{}\".format(varNama))\n",
        "        varBar=df['Jumlah'].iloc[i]\n",
        "        df.at[i,'Jumlah']+=1\n",
        "        df.at[i,'Pinjam']-=1\n",
        "        return df\n",
        "        break\n",
        "    elif i==len(df)-1:\n",
        "      print(\"Salah kode\")"
      ],
      "metadata": {
        "id": "DEqiDLoRzCAP"
      },
      "execution_count": 50,
      "outputs": []
    },
    {
      "cell_type": "code",
      "source": [
        "df=peminjaman_df()"
      ],
      "metadata": {
        "colab": {
          "base_uri": "https://localhost:8080/"
        },
        "id": "Qfhurm_gzdbw",
        "outputId": "babee881-234f-4611-fa88-2e2e140ab29b"
      },
      "execution_count": 51,
      "outputs": [
        {
          "output_type": "stream",
          "name": "stdout",
          "text": [
            "Form Peminjaman\n",
            "Nama Peminjam =Pandi\n",
            "Kode Buku= Ps_002\n",
            "Bisa pinjam Pandi\n",
            "Durasi waktu pinjam 3 hari\n"
          ]
        }
      ]
    },
    {
      "cell_type": "code",
      "source": [
        "df"
      ],
      "metadata": {
        "colab": {
          "base_uri": "https://localhost:8080/",
          "height": 238
        },
        "id": "z-ROaa1rzpBA",
        "outputId": "6eb00c5f-7008-4d4a-c93a-74ee5bb2a024"
      },
      "execution_count": 52,
      "outputs": [
        {
          "output_type": "execute_result",
          "data": {
            "text/plain": [
              "        Nama    Kode  Jumlah  Pinjam\n",
              "0     Fisika  Ps_001       9       2\n",
              "1      Kimia  Ps_002       9       7\n",
              "2    Biologi  Ps_003      10       3\n",
              "3       Seni  Ps_004      15       5\n",
              "4     Sastra  Ps_005       3       1\n",
              "5  Astronomi  PS_006       5       6"
            ],
            "text/html": [
              "\n",
              "  <div id=\"df-a7a4b309-768c-4594-b02e-56c838dc8a4e\">\n",
              "    <div class=\"colab-df-container\">\n",
              "      <div>\n",
              "<style scoped>\n",
              "    .dataframe tbody tr th:only-of-type {\n",
              "        vertical-align: middle;\n",
              "    }\n",
              "\n",
              "    .dataframe tbody tr th {\n",
              "        vertical-align: top;\n",
              "    }\n",
              "\n",
              "    .dataframe thead th {\n",
              "        text-align: right;\n",
              "    }\n",
              "</style>\n",
              "<table border=\"1\" class=\"dataframe\">\n",
              "  <thead>\n",
              "    <tr style=\"text-align: right;\">\n",
              "      <th></th>\n",
              "      <th>Nama</th>\n",
              "      <th>Kode</th>\n",
              "      <th>Jumlah</th>\n",
              "      <th>Pinjam</th>\n",
              "    </tr>\n",
              "  </thead>\n",
              "  <tbody>\n",
              "    <tr>\n",
              "      <th>0</th>\n",
              "      <td>Fisika</td>\n",
              "      <td>Ps_001</td>\n",
              "      <td>9</td>\n",
              "      <td>2</td>\n",
              "    </tr>\n",
              "    <tr>\n",
              "      <th>1</th>\n",
              "      <td>Kimia</td>\n",
              "      <td>Ps_002</td>\n",
              "      <td>9</td>\n",
              "      <td>7</td>\n",
              "    </tr>\n",
              "    <tr>\n",
              "      <th>2</th>\n",
              "      <td>Biologi</td>\n",
              "      <td>Ps_003</td>\n",
              "      <td>10</td>\n",
              "      <td>3</td>\n",
              "    </tr>\n",
              "    <tr>\n",
              "      <th>3</th>\n",
              "      <td>Seni</td>\n",
              "      <td>Ps_004</td>\n",
              "      <td>15</td>\n",
              "      <td>5</td>\n",
              "    </tr>\n",
              "    <tr>\n",
              "      <th>4</th>\n",
              "      <td>Sastra</td>\n",
              "      <td>Ps_005</td>\n",
              "      <td>3</td>\n",
              "      <td>1</td>\n",
              "    </tr>\n",
              "    <tr>\n",
              "      <th>5</th>\n",
              "      <td>Astronomi</td>\n",
              "      <td>PS_006</td>\n",
              "      <td>5</td>\n",
              "      <td>6</td>\n",
              "    </tr>\n",
              "  </tbody>\n",
              "</table>\n",
              "</div>\n",
              "      <button class=\"colab-df-convert\" onclick=\"convertToInteractive('df-a7a4b309-768c-4594-b02e-56c838dc8a4e')\"\n",
              "              title=\"Convert this dataframe to an interactive table.\"\n",
              "              style=\"display:none;\">\n",
              "        \n",
              "  <svg xmlns=\"http://www.w3.org/2000/svg\" height=\"24px\"viewBox=\"0 0 24 24\"\n",
              "       width=\"24px\">\n",
              "    <path d=\"M0 0h24v24H0V0z\" fill=\"none\"/>\n",
              "    <path d=\"M18.56 5.44l.94 2.06.94-2.06 2.06-.94-2.06-.94-.94-2.06-.94 2.06-2.06.94zm-11 1L8.5 8.5l.94-2.06 2.06-.94-2.06-.94L8.5 2.5l-.94 2.06-2.06.94zm10 10l.94 2.06.94-2.06 2.06-.94-2.06-.94-.94-2.06-.94 2.06-2.06.94z\"/><path d=\"M17.41 7.96l-1.37-1.37c-.4-.4-.92-.59-1.43-.59-.52 0-1.04.2-1.43.59L10.3 9.45l-7.72 7.72c-.78.78-.78 2.05 0 2.83L4 21.41c.39.39.9.59 1.41.59.51 0 1.02-.2 1.41-.59l7.78-7.78 2.81-2.81c.8-.78.8-2.07 0-2.86zM5.41 20L4 18.59l7.72-7.72 1.47 1.35L5.41 20z\"/>\n",
              "  </svg>\n",
              "      </button>\n",
              "      \n",
              "  <style>\n",
              "    .colab-df-container {\n",
              "      display:flex;\n",
              "      flex-wrap:wrap;\n",
              "      gap: 12px;\n",
              "    }\n",
              "\n",
              "    .colab-df-convert {\n",
              "      background-color: #E8F0FE;\n",
              "      border: none;\n",
              "      border-radius: 50%;\n",
              "      cursor: pointer;\n",
              "      display: none;\n",
              "      fill: #1967D2;\n",
              "      height: 32px;\n",
              "      padding: 0 0 0 0;\n",
              "      width: 32px;\n",
              "    }\n",
              "\n",
              "    .colab-df-convert:hover {\n",
              "      background-color: #E2EBFA;\n",
              "      box-shadow: 0px 1px 2px rgba(60, 64, 67, 0.3), 0px 1px 3px 1px rgba(60, 64, 67, 0.15);\n",
              "      fill: #174EA6;\n",
              "    }\n",
              "\n",
              "    [theme=dark] .colab-df-convert {\n",
              "      background-color: #3B4455;\n",
              "      fill: #D2E3FC;\n",
              "    }\n",
              "\n",
              "    [theme=dark] .colab-df-convert:hover {\n",
              "      background-color: #434B5C;\n",
              "      box-shadow: 0px 1px 3px 1px rgba(0, 0, 0, 0.15);\n",
              "      filter: drop-shadow(0px 1px 2px rgba(0, 0, 0, 0.3));\n",
              "      fill: #FFFFFF;\n",
              "    }\n",
              "  </style>\n",
              "\n",
              "      <script>\n",
              "        const buttonEl =\n",
              "          document.querySelector('#df-a7a4b309-768c-4594-b02e-56c838dc8a4e button.colab-df-convert');\n",
              "        buttonEl.style.display =\n",
              "          google.colab.kernel.accessAllowed ? 'block' : 'none';\n",
              "\n",
              "        async function convertToInteractive(key) {\n",
              "          const element = document.querySelector('#df-a7a4b309-768c-4594-b02e-56c838dc8a4e');\n",
              "          const dataTable =\n",
              "            await google.colab.kernel.invokeFunction('convertToInteractive',\n",
              "                                                     [key], {});\n",
              "          if (!dataTable) return;\n",
              "\n",
              "          const docLinkHtml = 'Like what you see? Visit the ' +\n",
              "            '<a target=\"_blank\" href=https://colab.research.google.com/notebooks/data_table.ipynb>data table notebook</a>'\n",
              "            + ' to learn more about interactive tables.';\n",
              "          element.innerHTML = '';\n",
              "          dataTable['output_type'] = 'display_data';\n",
              "          await google.colab.output.renderOutput(dataTable, element);\n",
              "          const docLink = document.createElement('div');\n",
              "          docLink.innerHTML = docLinkHtml;\n",
              "          element.appendChild(docLink);\n",
              "        }\n",
              "      </script>\n",
              "    </div>\n",
              "  </div>\n",
              "  "
            ]
          },
          "metadata": {},
          "execution_count": 52
        }
      ]
    },
    {
      "cell_type": "code",
      "source": [
        "df=pengembalian_df()"
      ],
      "metadata": {
        "colab": {
          "base_uri": "https://localhost:8080/"
        },
        "id": "dH8o9_TLzrwQ",
        "outputId": "3013e800-ad98-44cc-ff6c-30450aef93ac"
      },
      "execution_count": 53,
      "outputs": [
        {
          "output_type": "stream",
          "name": "stdout",
          "text": [
            "Form Pengembalian\n",
            "Nama Peminjam\t=Pandi\n",
            "Kode Buku\t=Ps_002\n",
            "Jumlah Hari\t=5\n",
            "Terima kasih, Pandi\n",
            "Denda sebesar Rp.2000\n"
          ]
        }
      ]
    },
    {
      "cell_type": "code",
      "source": [
        "df"
      ],
      "metadata": {
        "colab": {
          "base_uri": "https://localhost:8080/",
          "height": 238
        },
        "id": "PBAadZdfzzcD",
        "outputId": "bd244db3-e939-43c3-e9d1-909a1188ff00"
      },
      "execution_count": 54,
      "outputs": [
        {
          "output_type": "execute_result",
          "data": {
            "text/plain": [
              "        Nama    Kode  Jumlah  Pinjam\n",
              "0     Fisika  Ps_001       9       2\n",
              "1      Kimia  Ps_002      10       6\n",
              "2    Biologi  Ps_003      10       3\n",
              "3       Seni  Ps_004      15       5\n",
              "4     Sastra  Ps_005       3       1\n",
              "5  Astronomi  PS_006       5       6"
            ],
            "text/html": [
              "\n",
              "  <div id=\"df-1c39bc8b-201b-4591-aaca-a8a15a50dbba\">\n",
              "    <div class=\"colab-df-container\">\n",
              "      <div>\n",
              "<style scoped>\n",
              "    .dataframe tbody tr th:only-of-type {\n",
              "        vertical-align: middle;\n",
              "    }\n",
              "\n",
              "    .dataframe tbody tr th {\n",
              "        vertical-align: top;\n",
              "    }\n",
              "\n",
              "    .dataframe thead th {\n",
              "        text-align: right;\n",
              "    }\n",
              "</style>\n",
              "<table border=\"1\" class=\"dataframe\">\n",
              "  <thead>\n",
              "    <tr style=\"text-align: right;\">\n",
              "      <th></th>\n",
              "      <th>Nama</th>\n",
              "      <th>Kode</th>\n",
              "      <th>Jumlah</th>\n",
              "      <th>Pinjam</th>\n",
              "    </tr>\n",
              "  </thead>\n",
              "  <tbody>\n",
              "    <tr>\n",
              "      <th>0</th>\n",
              "      <td>Fisika</td>\n",
              "      <td>Ps_001</td>\n",
              "      <td>9</td>\n",
              "      <td>2</td>\n",
              "    </tr>\n",
              "    <tr>\n",
              "      <th>1</th>\n",
              "      <td>Kimia</td>\n",
              "      <td>Ps_002</td>\n",
              "      <td>10</td>\n",
              "      <td>6</td>\n",
              "    </tr>\n",
              "    <tr>\n",
              "      <th>2</th>\n",
              "      <td>Biologi</td>\n",
              "      <td>Ps_003</td>\n",
              "      <td>10</td>\n",
              "      <td>3</td>\n",
              "    </tr>\n",
              "    <tr>\n",
              "      <th>3</th>\n",
              "      <td>Seni</td>\n",
              "      <td>Ps_004</td>\n",
              "      <td>15</td>\n",
              "      <td>5</td>\n",
              "    </tr>\n",
              "    <tr>\n",
              "      <th>4</th>\n",
              "      <td>Sastra</td>\n",
              "      <td>Ps_005</td>\n",
              "      <td>3</td>\n",
              "      <td>1</td>\n",
              "    </tr>\n",
              "    <tr>\n",
              "      <th>5</th>\n",
              "      <td>Astronomi</td>\n",
              "      <td>PS_006</td>\n",
              "      <td>5</td>\n",
              "      <td>6</td>\n",
              "    </tr>\n",
              "  </tbody>\n",
              "</table>\n",
              "</div>\n",
              "      <button class=\"colab-df-convert\" onclick=\"convertToInteractive('df-1c39bc8b-201b-4591-aaca-a8a15a50dbba')\"\n",
              "              title=\"Convert this dataframe to an interactive table.\"\n",
              "              style=\"display:none;\">\n",
              "        \n",
              "  <svg xmlns=\"http://www.w3.org/2000/svg\" height=\"24px\"viewBox=\"0 0 24 24\"\n",
              "       width=\"24px\">\n",
              "    <path d=\"M0 0h24v24H0V0z\" fill=\"none\"/>\n",
              "    <path d=\"M18.56 5.44l.94 2.06.94-2.06 2.06-.94-2.06-.94-.94-2.06-.94 2.06-2.06.94zm-11 1L8.5 8.5l.94-2.06 2.06-.94-2.06-.94L8.5 2.5l-.94 2.06-2.06.94zm10 10l.94 2.06.94-2.06 2.06-.94-2.06-.94-.94-2.06-.94 2.06-2.06.94z\"/><path d=\"M17.41 7.96l-1.37-1.37c-.4-.4-.92-.59-1.43-.59-.52 0-1.04.2-1.43.59L10.3 9.45l-7.72 7.72c-.78.78-.78 2.05 0 2.83L4 21.41c.39.39.9.59 1.41.59.51 0 1.02-.2 1.41-.59l7.78-7.78 2.81-2.81c.8-.78.8-2.07 0-2.86zM5.41 20L4 18.59l7.72-7.72 1.47 1.35L5.41 20z\"/>\n",
              "  </svg>\n",
              "      </button>\n",
              "      \n",
              "  <style>\n",
              "    .colab-df-container {\n",
              "      display:flex;\n",
              "      flex-wrap:wrap;\n",
              "      gap: 12px;\n",
              "    }\n",
              "\n",
              "    .colab-df-convert {\n",
              "      background-color: #E8F0FE;\n",
              "      border: none;\n",
              "      border-radius: 50%;\n",
              "      cursor: pointer;\n",
              "      display: none;\n",
              "      fill: #1967D2;\n",
              "      height: 32px;\n",
              "      padding: 0 0 0 0;\n",
              "      width: 32px;\n",
              "    }\n",
              "\n",
              "    .colab-df-convert:hover {\n",
              "      background-color: #E2EBFA;\n",
              "      box-shadow: 0px 1px 2px rgba(60, 64, 67, 0.3), 0px 1px 3px 1px rgba(60, 64, 67, 0.15);\n",
              "      fill: #174EA6;\n",
              "    }\n",
              "\n",
              "    [theme=dark] .colab-df-convert {\n",
              "      background-color: #3B4455;\n",
              "      fill: #D2E3FC;\n",
              "    }\n",
              "\n",
              "    [theme=dark] .colab-df-convert:hover {\n",
              "      background-color: #434B5C;\n",
              "      box-shadow: 0px 1px 3px 1px rgba(0, 0, 0, 0.15);\n",
              "      filter: drop-shadow(0px 1px 2px rgba(0, 0, 0, 0.3));\n",
              "      fill: #FFFFFF;\n",
              "    }\n",
              "  </style>\n",
              "\n",
              "      <script>\n",
              "        const buttonEl =\n",
              "          document.querySelector('#df-1c39bc8b-201b-4591-aaca-a8a15a50dbba button.colab-df-convert');\n",
              "        buttonEl.style.display =\n",
              "          google.colab.kernel.accessAllowed ? 'block' : 'none';\n",
              "\n",
              "        async function convertToInteractive(key) {\n",
              "          const element = document.querySelector('#df-1c39bc8b-201b-4591-aaca-a8a15a50dbba');\n",
              "          const dataTable =\n",
              "            await google.colab.kernel.invokeFunction('convertToInteractive',\n",
              "                                                     [key], {});\n",
              "          if (!dataTable) return;\n",
              "\n",
              "          const docLinkHtml = 'Like what you see? Visit the ' +\n",
              "            '<a target=\"_blank\" href=https://colab.research.google.com/notebooks/data_table.ipynb>data table notebook</a>'\n",
              "            + ' to learn more about interactive tables.';\n",
              "          element.innerHTML = '';\n",
              "          dataTable['output_type'] = 'display_data';\n",
              "          await google.colab.output.renderOutput(dataTable, element);\n",
              "          const docLink = document.createElement('div');\n",
              "          docLink.innerHTML = docLinkHtml;\n",
              "          element.appendChild(docLink);\n",
              "        }\n",
              "      </script>\n",
              "    </div>\n",
              "  </div>\n",
              "  "
            ]
          },
          "metadata": {},
          "execution_count": 54
        }
      ]
    },
    {
      "cell_type": "code",
      "source": [
        "pjgLabel=np.arange(len(df))\n",
        "lbr=0.5\n",
        "varLabel=df['Nama'].values\n",
        "varJumlah=df['Jumlah'].values\n",
        "varPinjam=df['Pinjam'].values\n",
        "plt.bar(pjgLabel,varJumlah, color='orange',\n",
        "        width=lbr, label=\"Jumlah\")\n",
        "plt.bar(pjgLabel+lbr,varPinjam,color='blue',\n",
        "        width=lbr, label=\"Pinjam\")\n",
        "plt.legend(loc=\"best\")\n",
        "plt.show()"
      ],
      "metadata": {
        "colab": {
          "base_uri": "https://localhost:8080/",
          "height": 265
        },
        "id": "FHrz89gXz21z",
        "outputId": "36267c8d-b5b6-41ed-c60e-30077a3bf566"
      },
      "execution_count": 55,
      "outputs": [
        {
          "output_type": "display_data",
          "data": {
            "text/plain": [
              "<Figure size 432x288 with 1 Axes>"
            ],
            "image/png": "[encoded data removed]"
          },
          "metadata": {
            "needs_background": "light"
          }
        }
      ]
    },
    {
      "cell_type": "code",
      "source": [
        "plt.title(\"Persentase Ketersediaan Buku\")\n",
        "plt.pie(varJumlah,labels=varLabel, autopct='%1.1f%%',\n",
        "        shadow=True)\n",
        "plt.show()"
      ],
      "metadata": {
        "colab": {
          "base_uri": "https://localhost:8080/",
          "height": 264
        },
        "id": "tgbIUuLE0j8H",
        "outputId": "beb45b61-021a-473f-a3b5-df80c1b93b35"
      },
      "execution_count": 56,
      "outputs": [
        {
          "output_type": "display_data",
          "data": {
            "text/plain": [
              "<Figure size 432x288 with 1 Axes>"
            ],
            "image/png": "[encoded data removed]"
          },
          "metadata": {}
        }
      ]
    }
  ]
}