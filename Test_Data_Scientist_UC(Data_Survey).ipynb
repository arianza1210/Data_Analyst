{
  "nbformat": 4,
  "nbformat_minor": 0,
  "metadata": {
    "colab": {
      "provenance": [],
      "collapsed_sections": [],
      "authorship_tag": "ABX9TyM6MoIpJj1bHQrTnFL2V8z1",
      "include_colab_link": true
    },
    "kernelspec": {
      "name": "python3",
      "display_name": "Python 3"
    },
    "language_info": {
      "name": "python"
    }
  },
  "cells": [
    {
      "cell_type": "markdown",
      "metadata": {
        "id": "view-in-github",
        "colab_type": "text"
      },
      "source": [
        "<a href=\"https://colab.research.google.com/github/arianza1210/Data_Analyst/blob/main/Test_Data_Scientist_UC(Data_Survey).ipynb\" target=\"_parent\"><img src=\"https://colab.research.google.com/assets/colab-badge.svg\" alt=\"Open In Colab\"/></a>"
      ]
    },
    {
      "cell_type": "code",
      "execution_count": 1,
      "metadata": {
        "id": "gF5-L74coxhF"
      },
      "outputs": [],
      "source": [
        "import numpy as np\n",
        "import pandas as pd\n",
        "import matplotlib.pyplot as plt"
      ]
    },
    {
      "cell_type": "code",
      "source": [
        "#import data\n",
        "df=pd.read_csv('/content/data survey.csv')"
      ],
      "metadata": {
        "id": "uN9ncWPxpLk7"
      },
      "execution_count": 2,
      "outputs": []
    },
    {
      "cell_type": "markdown",
      "source": [
        "1. Berapa jumlah data yang ada, jumlah data sesungguhnya (data unik) dari audiens dan jumlah features dalam data. Apakah terdapat missing value atau data yang hilang dalam dataset dan bagaimana menangani data tersebut"
      ],
      "metadata": {
        "id": "u2dZfXSOyTy7"
      }
    },
    {
      "cell_type": "code",
      "source": [
        "df.head()"
      ],
      "metadata": {
        "colab": {
          "base_uri": "https://localhost:8080/",
          "height": 206
        },
        "id": "9uk9N8agpbw0",
        "outputId": "52b5a0bd-f8bf-413c-86f4-d36b10a36c66"
      },
      "execution_count": 3,
      "outputs": [
        {
          "output_type": "execute_result",
          "data": {
            "text/plain": [
              "                    id          name   age    age_range            province  \\\n",
              "0  id_4100001227501134        Sultan   NaN          NaN                 NaN   \n",
              "1  id_4100001746833302  Arief Rahman  23.0  22-30 tahun  Kalimantan Selatan   \n",
              "2  id_4100001746833302  Arief Rahman  23.0  22-30 tahun  Kalimantan Selatan   \n",
              "3  id_4100001746833302  Arief Rahman  23.0  22-30 tahun  Kalimantan Selatan   \n",
              "4  id_4100001746833302  Arief Rahman  23.0  22-30 tahun  Kalimantan Selatan   \n",
              "\n",
              "          city gender   interest interest_detail  \n",
              "0          NaN    NaN  Fotografi             NaN  \n",
              "1  Banjarmasin    NaN  Fotografi             NaN  \n",
              "2  Banjarmasin    NaN    Koleksi       Batu Akik  \n",
              "3  Banjarmasin    NaN    Koleksi       Batu Akik  \n",
              "4  Banjarmasin    NaN    Koleksi       Batu Akik  "
            ],
            "text/html": [
              "\n",
              "  <div id=\"df-98952369-c12d-4559-b6d0-8c13e84d4622\">\n",
              "    <div class=\"colab-df-container\">\n",
              "      <div>\n",
              "<style scoped>\n",
              "    .dataframe tbody tr th:only-of-type {\n",
              "        vertical-align: middle;\n",
              "    }\n",
              "\n",
              "    .dataframe tbody tr th {\n",
              "        vertical-align: top;\n",
              "    }\n",
              "\n",
              "    .dataframe thead th {\n",
              "        text-align: right;\n",
              "    }\n",
              "</style>\n",
              "<table border=\"1\" class=\"dataframe\">\n",
              "  <thead>\n",
              "    <tr style=\"text-align: right;\">\n",
              "      <th></th>\n",
              "      <th>id</th>\n",
              "      <th>name</th>\n",
              "      <th>age</th>\n",
              "      <th>age_range</th>\n",
              "      <th>province</th>\n",
              "      <th>city</th>\n",
              "      <th>gender</th>\n",
              "      <th>interest</th>\n",
              "      <th>interest_detail</th>\n",
              "    </tr>\n",
              "  </thead>\n",
              "  <tbody>\n",
              "    <tr>\n",
              "      <th>0</th>\n",
              "      <td>id_4100001227501134</td>\n",
              "      <td>Sultan</td>\n",
              "      <td>NaN</td>\n",
              "      <td>NaN</td>\n",
              "      <td>NaN</td>\n",
              "      <td>NaN</td>\n",
              "      <td>NaN</td>\n",
              "      <td>Fotografi</td>\n",
              "      <td>NaN</td>\n",
              "    </tr>\n",
              "    <tr>\n",
              "      <th>1</th>\n",
              "      <td>id_4100001746833302</td>\n",
              "      <td>Arief Rahman</td>\n",
              "      <td>23.0</td>\n",
              "      <td>22-30 tahun</td>\n",
              "      <td>Kalimantan Selatan</td>\n",
              "      <td>Banjarmasin</td>\n",
              "      <td>NaN</td>\n",
              "      <td>Fotografi</td>\n",
              "      <td>NaN</td>\n",
              "    </tr>\n",
              "    <tr>\n",
              "      <th>2</th>\n",
              "      <td>id_4100001746833302</td>\n",
              "      <td>Arief Rahman</td>\n",
              "      <td>23.0</td>\n",
              "      <td>22-30 tahun</td>\n",
              "      <td>Kalimantan Selatan</td>\n",
              "      <td>Banjarmasin</td>\n",
              "      <td>NaN</td>\n",
              "      <td>Koleksi</td>\n",
              "      <td>Batu Akik</td>\n",
              "    </tr>\n",
              "    <tr>\n",
              "      <th>3</th>\n",
              "      <td>id_4100001746833302</td>\n",
              "      <td>Arief Rahman</td>\n",
              "      <td>23.0</td>\n",
              "      <td>22-30 tahun</td>\n",
              "      <td>Kalimantan Selatan</td>\n",
              "      <td>Banjarmasin</td>\n",
              "      <td>NaN</td>\n",
              "      <td>Koleksi</td>\n",
              "      <td>Batu Akik</td>\n",
              "    </tr>\n",
              "    <tr>\n",
              "      <th>4</th>\n",
              "      <td>id_4100001746833302</td>\n",
              "      <td>Arief Rahman</td>\n",
              "      <td>23.0</td>\n",
              "      <td>22-30 tahun</td>\n",
              "      <td>Kalimantan Selatan</td>\n",
              "      <td>Banjarmasin</td>\n",
              "      <td>NaN</td>\n",
              "      <td>Koleksi</td>\n",
              "      <td>Batu Akik</td>\n",
              "    </tr>\n",
              "  </tbody>\n",
              "</table>\n",
              "</div>\n",
              "      <button class=\"colab-df-convert\" onclick=\"convertToInteractive('df-98952369-c12d-4559-b6d0-8c13e84d4622')\"\n",
              "              title=\"Convert this dataframe to an interactive table.\"\n",
              "              style=\"display:none;\">\n",
              "        \n",
              "  <svg xmlns=\"http://www.w3.org/2000/svg\" height=\"24px\"viewBox=\"0 0 24 24\"\n",
              "       width=\"24px\">\n",
              "    <path d=\"M0 0h24v24H0V0z\" fill=\"none\"/>\n",
              "    <path d=\"M18.56 5.44l.94 2.06.94-2.06 2.06-.94-2.06-.94-.94-2.06-.94 2.06-2.06.94zm-11 1L8.5 8.5l.94-2.06 2.06-.94-2.06-.94L8.5 2.5l-.94 2.06-2.06.94zm10 10l.94 2.06.94-2.06 2.06-.94-2.06-.94-.94-2.06-.94 2.06-2.06.94z\"/><path d=\"M17.41 7.96l-1.37-1.37c-.4-.4-.92-.59-1.43-.59-.52 0-1.04.2-1.43.59L10.3 9.45l-7.72 7.72c-.78.78-.78 2.05 0 2.83L4 21.41c.39.39.9.59 1.41.59.51 0 1.02-.2 1.41-.59l7.78-7.78 2.81-2.81c.8-.78.8-2.07 0-2.86zM5.41 20L4 18.59l7.72-7.72 1.47 1.35L5.41 20z\"/>\n",
              "  </svg>\n",
              "      </button>\n",
              "      \n",
              "  <style>\n",
              "    .colab-df-container {\n",
              "      display:flex;\n",
              "      flex-wrap:wrap;\n",
              "      gap: 12px;\n",
              "    }\n",
              "\n",
              "    .colab-df-convert {\n",
              "      background-color: #E8F0FE;\n",
              "      border: none;\n",
              "      border-radius: 50%;\n",
              "      cursor: pointer;\n",
              "      display: none;\n",
              "      fill: #1967D2;\n",
              "      height: 32px;\n",
              "      padding: 0 0 0 0;\n",
              "      width: 32px;\n",
              "    }\n",
              "\n",
              "    .colab-df-convert:hover {\n",
              "      background-color: #E2EBFA;\n",
              "      box-shadow: 0px 1px 2px rgba(60, 64, 67, 0.3), 0px 1px 3px 1px rgba(60, 64, 67, 0.15);\n",
              "      fill: #174EA6;\n",
              "    }\n",
              "\n",
              "    [theme=dark] .colab-df-convert {\n",
              "      background-color: #3B4455;\n",
              "      fill: #D2E3FC;\n",
              "    }\n",
              "\n",
              "    [theme=dark] .colab-df-convert:hover {\n",
              "      background-color: #434B5C;\n",
              "      box-shadow: 0px 1px 3px 1px rgba(0, 0, 0, 0.15);\n",
              "      filter: drop-shadow(0px 1px 2px rgba(0, 0, 0, 0.3));\n",
              "      fill: #FFFFFF;\n",
              "    }\n",
              "  </style>\n",
              "\n",
              "      <script>\n",
              "        const buttonEl =\n",
              "          document.querySelector('#df-98952369-c12d-4559-b6d0-8c13e84d4622 button.colab-df-convert');\n",
              "        buttonEl.style.display =\n",
              "          google.colab.kernel.accessAllowed ? 'block' : 'none';\n",
              "\n",
              "        async function convertToInteractive(key) {\n",
              "          const element = document.querySelector('#df-98952369-c12d-4559-b6d0-8c13e84d4622');\n",
              "          const dataTable =\n",
              "            await google.colab.kernel.invokeFunction('convertToInteractive',\n",
              "                                                     [key], {});\n",
              "          if (!dataTable) return;\n",
              "\n",
              "          const docLinkHtml = 'Like what you see? Visit the ' +\n",
              "            '<a target=\"_blank\" href=https://colab.research.google.com/notebooks/data_table.ipynb>data table notebook</a>'\n",
              "            + ' to learn more about interactive tables.';\n",
              "          element.innerHTML = '';\n",
              "          dataTable['output_type'] = 'display_data';\n",
              "          await google.colab.output.renderOutput(dataTable, element);\n",
              "          const docLink = document.createElement('div');\n",
              "          docLink.innerHTML = docLinkHtml;\n",
              "          element.appendChild(docLink);\n",
              "        }\n",
              "      </script>\n",
              "    </div>\n",
              "  </div>\n",
              "  "
            ]
          },
          "metadata": {},
          "execution_count": 3
        }
      ]
    },
    {
      "cell_type": "code",
      "source": [
        "df.tail()"
      ],
      "metadata": {
        "colab": {
          "base_uri": "https://localhost:8080/",
          "height": 206
        },
        "id": "h5gBgWPsvpgM",
        "outputId": "a2d1b97f-a944-4d00-9e39-ce17376a79bd"
      },
      "execution_count": 4,
      "outputs": [
        {
          "output_type": "execute_result",
          "data": {
            "text/plain": [
              "                         id                  name   age    age_range province  \\\n",
              "425327  id_4100026362102517          Elcha Borreg   NaN          NaN      NaN   \n",
              "425328  id_4100026474571982            Nda Ridwan   NaN          NaN      NaN   \n",
              "425329  id_4100026474571982            Nda Ridwan   NaN          NaN      NaN   \n",
              "425330  id_4100029181741974  Marlin Fitri Wahyuni  25.0  22-30 tahun     Riau   \n",
              "425331  id_4100029181741974  Marlin Fitri Wahyuni  25.0  22-30 tahun     Riau   \n",
              "\n",
              "        city  gender    interest interest_detail  \n",
              "425327   NaN  female  Kecantikan         Make Up  \n",
              "425328   NaN  female  Kecantikan         Make Up  \n",
              "425329   NaN  female  Kecantikan         Make Up  \n",
              "425330  Riau  female  Kecantikan         Make Up  \n",
              "425331  Riau  female  Kecantikan         Make Up  "
            ],
            "text/html": [
              "\n",
              "  <div id=\"df-41f0363a-6f44-4aed-874a-bc0d48b5d5e3\">\n",
              "    <div class=\"colab-df-container\">\n",
              "      <div>\n",
              "<style scoped>\n",
              "    .dataframe tbody tr th:only-of-type {\n",
              "        vertical-align: middle;\n",
              "    }\n",
              "\n",
              "    .dataframe tbody tr th {\n",
              "        vertical-align: top;\n",
              "    }\n",
              "\n",
              "    .dataframe thead th {\n",
              "        text-align: right;\n",
              "    }\n",
              "</style>\n",
              "<table border=\"1\" class=\"dataframe\">\n",
              "  <thead>\n",
              "    <tr style=\"text-align: right;\">\n",
              "      <th></th>\n",
              "      <th>id</th>\n",
              "      <th>name</th>\n",
              "      <th>age</th>\n",
              "      <th>age_range</th>\n",
              "      <th>province</th>\n",
              "      <th>city</th>\n",
              "      <th>gender</th>\n",
              "      <th>interest</th>\n",
              "      <th>interest_detail</th>\n",
              "    </tr>\n",
              "  </thead>\n",
              "  <tbody>\n",
              "    <tr>\n",
              "      <th>425327</th>\n",
              "      <td>id_4100026362102517</td>\n",
              "      <td>Elcha Borreg</td>\n",
              "      <td>NaN</td>\n",
              "      <td>NaN</td>\n",
              "      <td>NaN</td>\n",
              "      <td>NaN</td>\n",
              "      <td>female</td>\n",
              "      <td>Kecantikan</td>\n",
              "      <td>Make Up</td>\n",
              "    </tr>\n",
              "    <tr>\n",
              "      <th>425328</th>\n",
              "      <td>id_4100026474571982</td>\n",
              "      <td>Nda Ridwan</td>\n",
              "      <td>NaN</td>\n",
              "      <td>NaN</td>\n",
              "      <td>NaN</td>\n",
              "      <td>NaN</td>\n",
              "      <td>female</td>\n",
              "      <td>Kecantikan</td>\n",
              "      <td>Make Up</td>\n",
              "    </tr>\n",
              "    <tr>\n",
              "      <th>425329</th>\n",
              "      <td>id_4100026474571982</td>\n",
              "      <td>Nda Ridwan</td>\n",
              "      <td>NaN</td>\n",
              "      <td>NaN</td>\n",
              "      <td>NaN</td>\n",
              "      <td>NaN</td>\n",
              "      <td>female</td>\n",
              "      <td>Kecantikan</td>\n",
              "      <td>Make Up</td>\n",
              "    </tr>\n",
              "    <tr>\n",
              "      <th>425330</th>\n",
              "      <td>id_4100029181741974</td>\n",
              "      <td>Marlin Fitri Wahyuni</td>\n",
              "      <td>25.0</td>\n",
              "      <td>22-30 tahun</td>\n",
              "      <td>Riau</td>\n",
              "      <td>Riau</td>\n",
              "      <td>female</td>\n",
              "      <td>Kecantikan</td>\n",
              "      <td>Make Up</td>\n",
              "    </tr>\n",
              "    <tr>\n",
              "      <th>425331</th>\n",
              "      <td>id_4100029181741974</td>\n",
              "      <td>Marlin Fitri Wahyuni</td>\n",
              "      <td>25.0</td>\n",
              "      <td>22-30 tahun</td>\n",
              "      <td>Riau</td>\n",
              "      <td>Riau</td>\n",
              "      <td>female</td>\n",
              "      <td>Kecantikan</td>\n",
              "      <td>Make Up</td>\n",
              "    </tr>\n",
              "  </tbody>\n",
              "</table>\n",
              "</div>\n",
              "      <button class=\"colab-df-convert\" onclick=\"convertToInteractive('df-41f0363a-6f44-4aed-874a-bc0d48b5d5e3')\"\n",
              "              title=\"Convert this dataframe to an interactive table.\"\n",
              "              style=\"display:none;\">\n",
              "        \n",
              "  <svg xmlns=\"http://www.w3.org/2000/svg\" height=\"24px\"viewBox=\"0 0 24 24\"\n",
              "       width=\"24px\">\n",
              "    <path d=\"M0 0h24v24H0V0z\" fill=\"none\"/>\n",
              "    <path d=\"M18.56 5.44l.94 2.06.94-2.06 2.06-.94-2.06-.94-.94-2.06-.94 2.06-2.06.94zm-11 1L8.5 8.5l.94-2.06 2.06-.94-2.06-.94L8.5 2.5l-.94 2.06-2.06.94zm10 10l.94 2.06.94-2.06 2.06-.94-2.06-.94-.94-2.06-.94 2.06-2.06.94z\"/><path d=\"M17.41 7.96l-1.37-1.37c-.4-.4-.92-.59-1.43-.59-.52 0-1.04.2-1.43.59L10.3 9.45l-7.72 7.72c-.78.78-.78 2.05 0 2.83L4 21.41c.39.39.9.59 1.41.59.51 0 1.02-.2 1.41-.59l7.78-7.78 2.81-2.81c.8-.78.8-2.07 0-2.86zM5.41 20L4 18.59l7.72-7.72 1.47 1.35L5.41 20z\"/>\n",
              "  </svg>\n",
              "      </button>\n",
              "      \n",
              "  <style>\n",
              "    .colab-df-container {\n",
              "      display:flex;\n",
              "      flex-wrap:wrap;\n",
              "      gap: 12px;\n",
              "    }\n",
              "\n",
              "    .colab-df-convert {\n",
              "      background-color: #E8F0FE;\n",
              "      border: none;\n",
              "      border-radius: 50%;\n",
              "      cursor: pointer;\n",
              "      display: none;\n",
              "      fill: #1967D2;\n",
              "      height: 32px;\n",
              "      padding: 0 0 0 0;\n",
              "      width: 32px;\n",
              "    }\n",
              "\n",
              "    .colab-df-convert:hover {\n",
              "      background-color: #E2EBFA;\n",
              "      box-shadow: 0px 1px 2px rgba(60, 64, 67, 0.3), 0px 1px 3px 1px rgba(60, 64, 67, 0.15);\n",
              "      fill: #174EA6;\n",
              "    }\n",
              "\n",
              "    [theme=dark] .colab-df-convert {\n",
              "      background-color: #3B4455;\n",
              "      fill: #D2E3FC;\n",
              "    }\n",
              "\n",
              "    [theme=dark] .colab-df-convert:hover {\n",
              "      background-color: #434B5C;\n",
              "      box-shadow: 0px 1px 3px 1px rgba(0, 0, 0, 0.15);\n",
              "      filter: drop-shadow(0px 1px 2px rgba(0, 0, 0, 0.3));\n",
              "      fill: #FFFFFF;\n",
              "    }\n",
              "  </style>\n",
              "\n",
              "      <script>\n",
              "        const buttonEl =\n",
              "          document.querySelector('#df-41f0363a-6f44-4aed-874a-bc0d48b5d5e3 button.colab-df-convert');\n",
              "        buttonEl.style.display =\n",
              "          google.colab.kernel.accessAllowed ? 'block' : 'none';\n",
              "\n",
              "        async function convertToInteractive(key) {\n",
              "          const element = document.querySelector('#df-41f0363a-6f44-4aed-874a-bc0d48b5d5e3');\n",
              "          const dataTable =\n",
              "            await google.colab.kernel.invokeFunction('convertToInteractive',\n",
              "                                                     [key], {});\n",
              "          if (!dataTable) return;\n",
              "\n",
              "          const docLinkHtml = 'Like what you see? Visit the ' +\n",
              "            '<a target=\"_blank\" href=https://colab.research.google.com/notebooks/data_table.ipynb>data table notebook</a>'\n",
              "            + ' to learn more about interactive tables.';\n",
              "          element.innerHTML = '';\n",
              "          dataTable['output_type'] = 'display_data';\n",
              "          await google.colab.output.renderOutput(dataTable, element);\n",
              "          const docLink = document.createElement('div');\n",
              "          docLink.innerHTML = docLinkHtml;\n",
              "          element.appendChild(docLink);\n",
              "        }\n",
              "      </script>\n",
              "    </div>\n",
              "  </div>\n",
              "  "
            ]
          },
          "metadata": {},
          "execution_count": 4
        }
      ]
    },
    {
      "cell_type": "code",
      "source": [
        "df.isnull().sum() #melihat data missing value"
      ],
      "metadata": {
        "colab": {
          "base_uri": "https://localhost:8080/",
          "height": 0
        },
        "id": "hM9Utr0Ov5vt",
        "outputId": "4fefe292-49bf-4605-8a82-ad03a99e233e"
      },
      "execution_count": 5,
      "outputs": [
        {
          "output_type": "execute_result",
          "data": {
            "text/plain": [
              "id                      0\n",
              "name                    3\n",
              "age                160297\n",
              "age_range          160297\n",
              "province           108031\n",
              "city               108031\n",
              "gender              50881\n",
              "interest                0\n",
              "interest_detail    302494\n",
              "dtype: int64"
            ]
          },
          "metadata": {},
          "execution_count": 5
        }
      ]
    },
    {
      "cell_type": "code",
      "source": [
        "#melihat total baris\n",
        "df.shape"
      ],
      "metadata": {
        "colab": {
          "base_uri": "https://localhost:8080/",
          "height": 0
        },
        "id": "zEIVB8CbwJ5h",
        "outputId": "136a59e4-a1bd-4856-c806-ffad840fdfc0"
      },
      "execution_count": 6,
      "outputs": [
        {
          "output_type": "execute_result",
          "data": {
            "text/plain": [
              "(425332, 9)"
            ]
          },
          "metadata": {},
          "execution_count": 6
        }
      ]
    },
    {
      "cell_type": "code",
      "source": [
        "df1=df['name'].unique()"
      ],
      "metadata": {
        "id": "KAFYeJULxHAt"
      },
      "execution_count": 7,
      "outputs": []
    },
    {
      "cell_type": "code",
      "source": [
        "#melihat data yang unik\n",
        "df1.shape"
      ],
      "metadata": {
        "colab": {
          "base_uri": "https://localhost:8080/",
          "height": 0
        },
        "id": "ax4PVdcOxrdL",
        "outputId": "fd906535-c4fe-4ff8-bcbe-25f8484d8656"
      },
      "execution_count": 8,
      "outputs": [
        {
          "output_type": "execute_result",
          "data": {
            "text/plain": [
              "(155012,)"
            ]
          },
          "metadata": {},
          "execution_count": 8
        }
      ]
    },
    {
      "cell_type": "code",
      "source": [
        "#menghapus missing value\n",
        "clean_df= df.dropna()"
      ],
      "metadata": {
        "id": "Z2XyQkDGx1aX"
      },
      "execution_count": 9,
      "outputs": []
    },
    {
      "cell_type": "code",
      "source": [
        "\n",
        "clean_df.isnull().sum()"
      ],
      "metadata": {
        "colab": {
          "base_uri": "https://localhost:8080/",
          "height": 0
        },
        "id": "8_krC5UyyCPC",
        "outputId": "6c47db1f-5e2b-4756-ef02-988f2cb11365"
      },
      "execution_count": 10,
      "outputs": [
        {
          "output_type": "execute_result",
          "data": {
            "text/plain": [
              "id                 0\n",
              "name               0\n",
              "age                0\n",
              "age_range          0\n",
              "province           0\n",
              "city               0\n",
              "gender             0\n",
              "interest           0\n",
              "interest_detail    0\n",
              "dtype: int64"
            ]
          },
          "metadata": {},
          "execution_count": 10
        }
      ]
    },
    {
      "cell_type": "markdown",
      "source": [
        "No2.Bagaimana pemetaan demografi umum (persentase) dari variabel gender, age_range, education dan location (province dan city) pada data tersebut? Buat visualisasi dan berikan penjelasan"
      ],
      "metadata": {
        "id": "C938G6RNyJQ8"
      }
    },
    {
      "cell_type": "code",
      "source": [
        "\n",
        "df['age_range'].value_counts()"
      ],
      "metadata": {
        "colab": {
          "base_uri": "https://localhost:8080/",
          "height": 0
        },
        "id": "yY0gCxp_yHzW",
        "outputId": "760c16f0-27c3-40f0-81b7-05968cc2e7ec"
      },
      "execution_count": 11,
      "outputs": [
        {
          "output_type": "execute_result",
          "data": {
            "text/plain": [
              "22-30 tahun    145350\n",
              "18-21 tahun     87546\n",
              "31-40 tahun     23851\n",
              "41-55 tahun      5992\n",
              "> 55 tahun       1446\n",
              "< 18 tahun        850\n",
              "Name: age_range, dtype: int64"
            ]
          },
          "metadata": {},
          "execution_count": 11
        }
      ]
    },
    {
      "cell_type": "code",
      "source": [
        "#visualisai berdasarkan age range\n",
        "import matplotlib.pyplot as plt, seaborn as sns\n",
        "data1 = df['age_range'].value_counts()\n",
        "data1.plot(kind='bar', color='orange') \n",
        "plt.title('Age Range')\n",
        "plt.ylabel('Count')\n",
        "\n",
        "plt.show() "
      ],
      "metadata": {
        "colab": {
          "base_uri": "https://localhost:8080/",
          "height": 333
        },
        "id": "u4iBIw-xyg2h",
        "outputId": "f2703a85-d806-4f35-bb17-2ff33fb934c5"
      },
      "execution_count": 12,
      "outputs": [
        {
          "output_type": "display_data",
          "data": {
            "text/plain": [
              "<Figure size 432x288 with 1 Axes>"
            ],
            "image/png": "[encoded data removed]"
          },
          "metadata": {
            "needs_background": "light"
          }
        }
      ]
    },
    {
      "cell_type": "code",
      "source": [
        "#visualisai berdasarkan gender\n",
        "data2 = df['gender'].value_counts()\n",
        "data2.plot(kind='bar', color=\"orange\")\n",
        "plt.title('Gender')\n",
        "plt.ylabel('Count')\n",
        "\n",
        "plt.show() "
      ],
      "metadata": {
        "colab": {
          "base_uri": "https://localhost:8080/",
          "height": 306
        },
        "id": "Oj4eb-6-1WoM",
        "outputId": "dc87527d-8576-4d43-9e24-a7ff300b9b5a"
      },
      "execution_count": 13,
      "outputs": [
        {
          "output_type": "display_data",
          "data": {
            "text/plain": [
              "<Figure size 432x288 with 1 Axes>"
            ],
            "image/png": "[encoded data removed]"
          },
          "metadata": {
            "needs_background": "light"
          }
        }
      ]
    },
    {
      "cell_type": "code",
      "source": [
        "#visualisai berdasarkan province\n",
        "data3 = df['province'].value_counts()\n",
        "data3.plot(kind='bar',color=\"orange\") \n",
        "plt.title('Province')\n",
        "plt.ylabel('Count')\n",
        "\n",
        "plt.show() "
      ],
      "metadata": {
        "colab": {
          "base_uri": "https://localhost:8080/",
          "height": 409
        },
        "id": "Ve_qT3oL1nX2",
        "outputId": "82c8e6e8-cca9-4185-f339-328d4c945824"
      },
      "execution_count": 14,
      "outputs": [
        {
          "output_type": "display_data",
          "data": {
            "text/plain": [
              "<Figure size 432x288 with 1 Axes>"
            ],
            "image/png": "[encoded data removed]"
          },
          "metadata": {
            "needs_background": "light"
          }
        }
      ]
    },
    {
      "cell_type": "code",
      "source": [
        "df['city'].value_counts()"
      ],
      "metadata": {
        "colab": {
          "base_uri": "https://localhost:8080/",
          "height": 0
        },
        "id": "Mfn9l7Ol14yF",
        "outputId": "23d28035-0384-4259-b2f0-3983adcd7ff9"
      },
      "execution_count": 15,
      "outputs": [
        {
          "output_type": "execute_result",
          "data": {
            "text/plain": [
              "Jakarta           17070\n",
              "Bandung           14535\n",
              "Surabaya          12978\n",
              "Jawa Barat        12115\n",
              "Jawa Tengah       11156\n",
              "                  ...  \n",
              "Bengkulu Utara        1\n",
              "Kutai Timur           1\n",
              "Morowali Utara        1\n",
              "Konawe Utara          1\n",
              "Banggai Laut          1\n",
              "Name: city, Length: 397, dtype: int64"
            ]
          },
          "metadata": {},
          "execution_count": 15
        }
      ]
    },
    {
      "cell_type": "code",
      "source": [
        "#visualisai berdasarkan city\n",
        "data4 = df['city'].value_counts()\n",
        "data4.plot(kind='bar',color=\"orange\") \n",
        "plt.title('City')\n",
        "plt.ylabel('Count')\n",
        "\n",
        "plt.show() "
      ],
      "metadata": {
        "colab": {
          "base_uri": "https://localhost:8080/",
          "height": 416
        },
        "id": "gBsqJmuL2Ggz",
        "outputId": "f17025dc-8317-4b1d-a62b-b9bc11396c8a"
      },
      "execution_count": 16,
      "outputs": [
        {
          "output_type": "display_data",
          "data": {
            "text/plain": [
              "<Figure size 432x288 with 1 Axes>"
            ],
            "image/png": "[encoded data removed]"
          },
          "metadata": {
            "needs_background": "light"
          }
        }
      ]
    },
    {
      "cell_type": "markdown",
      "source": [
        "3. Klien akan melakukan kegiatan di daerah Jawa Barat dan Jawa Tengah, bagaimana pemetaan demografi (gender dan age_range) di kedua daerah tersebut dan menurut anda kegiatan terkait apa yang anda tawarkan kepada klien agar kegiatan tersebut tepat sasaran dan diminati oleh penduduk di masing-masing daerah tersebut? Adakah perbedaan untuk kedua daerah tersebut? Buat visualisasi dan berikan penjelasan! "
      ],
      "metadata": {
        "id": "GbjTtv4I3QjH"
      }
    },
    {
      "cell_type": "code",
      "source": [
        "df_jabar=df[df['province']=='Jawa Barat']\n",
        "df_jateng=df[df['province']=='Jawa Tengah']\n"
      ],
      "metadata": {
        "id": "NvGg1kqM2qmt"
      },
      "execution_count": 17,
      "outputs": []
    },
    {
      "cell_type": "markdown",
      "source": [
        "Jawa Tengah"
      ],
      "metadata": {
        "id": "nvRZdh0M4SOj"
      }
    },
    {
      "cell_type": "code",
      "source": [
        "#visualisai berdasarkan gender di Jawa Tengah\n",
        "data5 = df_jateng['gender'].value_counts()\n",
        "data5.plot(kind='bar') \n",
        "plt.title('Gender di Provinsi Jawa Tengah ')\n",
        "plt.ylabel('Count')\n",
        "\n",
        "plt.show() "
      ],
      "metadata": {
        "colab": {
          "base_uri": "https://localhost:8080/",
          "height": 306
        },
        "id": "BXR0SDmv3miw",
        "outputId": "77f9d734-0942-48c3-a4bc-a6bf6de94a55"
      },
      "execution_count": 18,
      "outputs": [
        {
          "output_type": "display_data",
          "data": {
            "text/plain": [
              "<Figure size 432x288 with 1 Axes>"
            ],
            "image/png": "[encoded data removed]"
          },
          "metadata": {
            "needs_background": "light"
          }
        }
      ]
    },
    {
      "cell_type": "code",
      "source": [
        "#visualisai berdasarkan Age Range di Jawa Tengah\n",
        "data6 = df_jateng['age_range'].value_counts()\n",
        "data6.plot(kind='bar') \n",
        "plt.title('Age Range di Provinsi Jawa Tengah ')\n",
        "plt.ylabel('Count')\n",
        "\n",
        "plt.show() "
      ],
      "metadata": {
        "colab": {
          "base_uri": "https://localhost:8080/",
          "height": 333
        },
        "id": "P-ID8ybY3-tp",
        "outputId": "429d68ba-4795-4c23-8df6-82e1cb022b3b"
      },
      "execution_count": 19,
      "outputs": [
        {
          "output_type": "display_data",
          "data": {
            "text/plain": [
              "<Figure size 432x288 with 1 Axes>"
            ],
            "image/png": "[encoded data removed]"
          },
          "metadata": {
            "needs_background": "light"
          }
        }
      ]
    },
    {
      "cell_type": "code",
      "source": [
        "#visualisai berdasarkan Interest di Jawa Tengah\n",
        "df7 = df_jateng['interest'].value_counts()\n",
        "df7.plot(kind='bar') \n",
        "plt.title('Interest di Provinsi Jawa Tengah')\n",
        "plt.ylabel('Count')\n",
        "\n",
        "plt.show() "
      ],
      "metadata": {
        "colab": {
          "base_uri": "https://localhost:8080/",
          "height": 347
        },
        "id": "4yo3oLYd4K2G",
        "outputId": "ff304e20-a08f-4ac6-a17f-3ee029499112"
      },
      "execution_count": 41,
      "outputs": [
        {
          "output_type": "display_data",
          "data": {
            "text/plain": [
              "<Figure size 432x288 with 1 Axes>"
            ],
            "image/png": "[encoded data removed]"
          },
          "metadata": {
            "needs_background": "light"
          }
        }
      ]
    },
    {
      "cell_type": "markdown",
      "source": [
        "Jawa Barat"
      ],
      "metadata": {
        "id": "aWvf0ADm46fB"
      }
    },
    {
      "cell_type": "code",
      "source": [
        "#visualisai berdasarkan gender di Jawa Barat\n",
        "data8 = df_jabar['gender'].value_counts()\n",
        "data8.plot(kind='bar')\n",
        "plt.title('Gender di Provinsi Jawa Barat ')\n",
        "plt.ylabel('Count')\n",
        "\n",
        "plt.show() "
      ],
      "metadata": {
        "colab": {
          "base_uri": "https://localhost:8080/",
          "height": 306
        },
        "id": "lVGtgwBb41tj",
        "outputId": "d2613f21-b735-456f-cc8e-03ed1cf672b9"
      },
      "execution_count": 21,
      "outputs": [
        {
          "output_type": "display_data",
          "data": {
            "text/plain": [
              "<Figure size 432x288 with 1 Axes>"
            ],
            "image/png": "[encoded data removed]"
          },
          "metadata": {
            "needs_background": "light"
          }
        }
      ]
    },
    {
      "cell_type": "code",
      "source": [
        "#visualisai berdasarkan age_range di Jawa Barat\n",
        "data9 = df_jabar['age_range'].value_counts()\n",
        "data9.plot(kind='bar') \n",
        "plt.title('Age Range di Provinsi Jawa Barat ')\n",
        "plt.ylabel('Count')\n",
        "\n",
        "plt.show() "
      ],
      "metadata": {
        "colab": {
          "base_uri": "https://localhost:8080/",
          "height": 333
        },
        "id": "bMhxe-UB5VQr",
        "outputId": "e3c719f6-250b-490e-8982-a136696b16af"
      },
      "execution_count": 22,
      "outputs": [
        {
          "output_type": "display_data",
          "data": {
            "text/plain": [
              "<Figure size 432x288 with 1 Axes>"
            ],
            "image/png": "[encoded data removed]"
          },
          "metadata": {
            "needs_background": "light"
          }
        }
      ]
    },
    {
      "cell_type": "code",
      "source": [
        "#visualisai berdasarkan interest di Jawa Barat\n",
        "df10 = df_jabar['interest'].value_counts()\n",
        "df10.plot(kind='bar') \n",
        "plt.title('Interest di Provinsi Jawa Barat')\n",
        "plt.ylabel('Count')\n",
        "\n",
        "plt.show() "
      ],
      "metadata": {
        "colab": {
          "base_uri": "https://localhost:8080/",
          "height": 347
        },
        "id": "pHkVmHEZ5jEA",
        "outputId": "40874c1e-9656-4776-d4ed-5ee43e3e1b7d"
      },
      "execution_count": 23,
      "outputs": [
        {
          "output_type": "display_data",
          "data": {
            "text/plain": [
              "<Figure size 432x288 with 1 Axes>"
            ],
            "image/png": "[encoded data removed]"
          },
          "metadata": {
            "needs_background": "light"
          }
        }
      ]
    },
    {
      "cell_type": "code",
      "source": [
        "#visualisai berdasarkan interest di Jawa Barat & Jawa Tengah\n",
        "frames = [df_jateng, df_jabar]\n",
        "result = pd.concat(frames)\n",
        "result = result['interest'].value_counts()\n",
        "result.plot(kind='bar') \n",
        "plt.title('Interest di Jawa Barat dan Jawa Tengah')\n",
        "plt.ylabel('Count')\n",
        "\n",
        "plt.show() "
      ],
      "metadata": {
        "colab": {
          "base_uri": "https://localhost:8080/",
          "height": 347
        },
        "id": "vHljpFUo5vWx",
        "outputId": "7f8095a5-366d-4c9c-f64b-201dda39941b"
      },
      "execution_count": 24,
      "outputs": [
        {
          "output_type": "display_data",
          "data": {
            "text/plain": [
              "<Figure size 432x288 with 1 Axes>"
            ],
            "image/png": "[encoded data removed]"
          },
          "metadata": {
            "needs_background": "light"
          }
        }
      ]
    },
    {
      "cell_type": "code",
      "source": [
        "result.value_counts"
      ],
      "metadata": {
        "colab": {
          "base_uri": "https://localhost:8080/",
          "height": 0
        },
        "id": "-8LNFyP26Dar",
        "outputId": "91ca6ace-a966-481f-fab0-1293f80c793c"
      },
      "execution_count": 25,
      "outputs": [
        {
          "output_type": "execute_result",
          "data": {
            "text/plain": [
              "<bound method IndexOpsMixin.value_counts of Kuliner           32964\n",
              "Pecinta Burung    25760\n",
              "Pakaian           17504\n",
              "Berkebun          13660\n",
              "Fotografi         12907\n",
              "Sepatu            11061\n",
              "Memancing          3852\n",
              "Koleksi            1501\n",
              "Aksesories         1254\n",
              "Memasak            1223\n",
              "Dasi               1048\n",
              "Tas                 603\n",
              "Menjahit            537\n",
              "Membaca             519\n",
              "Kecantikan          420\n",
              "Topi                333\n",
              "Musik               319\n",
              "Komik                98\n",
              "Perhiasan            55\n",
              "Fitness              52\n",
              "kebaya               10\n",
              "Menari                7\n",
              "Sandal                2\n",
              "Name: interest, dtype: int64>"
            ]
          },
          "metadata": {},
          "execution_count": 25
        }
      ]
    },
    {
      "cell_type": "markdown",
      "source": [
        "4. Klien meminta agar dibuat kategori ulang untung range umur (age) pada data sesuai kategori tersebut (Baby Boomers: berumur >= 60 Th; Gen X: berumur 40 – 59 Th; Gen Millennial: 25 – 39 Th; Gen Z: 10 – 24 Th; Gen Alpha: < 10 Th). Visualisasikan distribusi kategori baru tersebut!"
      ],
      "metadata": {
        "id": "omw11YKS6PI9"
      }
    },
    {
      "cell_type": "code",
      "source": [
        "#kategori ulang berdasarkan umur\n",
        "def age_range (row):\n",
        "    if row['age'] >= 60:\n",
        "        return 'Baby Boomers'\n",
        "    if row['age'] >= 40 and row['age'] <= 59:\n",
        "        return 'Gen X'\n",
        "    if row['age'] >= 25 and row['age'] <= 39:\n",
        "        return 'Gen Millenial'\n",
        "    if row['age'] >= 10 and row['age'] <= 24:\n",
        "        return 'Gen Z'\n",
        "    if row['age'] >10:\n",
        "        return 'Gen Alpha'"
      ],
      "metadata": {
        "id": "jHP1rKNv6NLE"
      },
      "execution_count": 26,
      "outputs": []
    },
    {
      "cell_type": "code",
      "source": [
        "row=df['age']"
      ],
      "metadata": {
        "id": "S_vVR4De6nHU"
      },
      "execution_count": 27,
      "outputs": []
    },
    {
      "cell_type": "code",
      "source": [
        "df_update = df\n",
        "df_update['new_age_range'] = df_update.apply (lambda row: age_range(row), axis=1)"
      ],
      "metadata": {
        "id": "iQNdDl2Q6oOH"
      },
      "execution_count": 28,
      "outputs": []
    },
    {
      "cell_type": "code",
      "source": [
        "df_update.head(10)"
      ],
      "metadata": {
        "colab": {
          "base_uri": "https://localhost:8080/",
          "height": 363
        },
        "id": "9iE3_BZS6sNL",
        "outputId": "9508a768-d29d-4822-f0d1-3ffc5c774711"
      },
      "execution_count": 29,
      "outputs": [
        {
          "output_type": "execute_result",
          "data": {
            "text/plain": [
              "                    id             name   age    age_range  \\\n",
              "0  id_4100001227501134           Sultan   NaN          NaN   \n",
              "1  id_4100001746833302     Arief Rahman  23.0  22-30 tahun   \n",
              "2  id_4100001746833302     Arief Rahman  23.0  22-30 tahun   \n",
              "3  id_4100001746833302     Arief Rahman  23.0  22-30 tahun   \n",
              "4  id_4100001746833302     Arief Rahman  23.0  22-30 tahun   \n",
              "5  id_4100003057541459  Wahyudi Nasukha  29.0  22-30 tahun   \n",
              "6  id_4100003057541459  Wahyudi Nasukha  29.0  22-30 tahun   \n",
              "7  id_4100003057541459  Wahyudi Nasukha  29.0  22-30 tahun   \n",
              "8  id_4100003057541459  Wahyudi Nasukha  29.0  22-30 tahun   \n",
              "9  id_4100003057541459  Wahyudi Nasukha  29.0  22-30 tahun   \n",
              "\n",
              "             province         city gender   interest interest_detail  \\\n",
              "0                 NaN          NaN    NaN  Fotografi             NaN   \n",
              "1  Kalimantan Selatan  Banjarmasin    NaN  Fotografi             NaN   \n",
              "2  Kalimantan Selatan  Banjarmasin    NaN    Koleksi       Batu Akik   \n",
              "3  Kalimantan Selatan  Banjarmasin    NaN    Koleksi       Batu Akik   \n",
              "4  Kalimantan Selatan  Banjarmasin    NaN    Koleksi       Batu Akik   \n",
              "5          Jawa Timur     Pasuruan   male  Fotografi             NaN   \n",
              "6          Jawa Timur     Pasuruan   male  Fotografi             NaN   \n",
              "7          Jawa Timur     Pasuruan   male    Koleksi       Batu Akik   \n",
              "8          Jawa Timur     Pasuruan   male    Koleksi       Batu Akik   \n",
              "9          Jawa Timur     Pasuruan   male    Koleksi       Batu Akik   \n",
              "\n",
              "   new_age_range  \n",
              "0           None  \n",
              "1          Gen Z  \n",
              "2          Gen Z  \n",
              "3          Gen Z  \n",
              "4          Gen Z  \n",
              "5  Gen Millenial  \n",
              "6  Gen Millenial  \n",
              "7  Gen Millenial  \n",
              "8  Gen Millenial  \n",
              "9  Gen Millenial  "
            ],
            "text/html": [
              "\n",
              "  <div id=\"df-06951294-fe78-429c-b0a2-f7f810e71f40\">\n",
              "    <div class=\"colab-df-container\">\n",
              "      <div>\n",
              "<style scoped>\n",
              "    .dataframe tbody tr th:only-of-type {\n",
              "        vertical-align: middle;\n",
              "    }\n",
              "\n",
              "    .dataframe tbody tr th {\n",
              "        vertical-align: top;\n",
              "    }\n",
              "\n",
              "    .dataframe thead th {\n",
              "        text-align: right;\n",
              "    }\n",
              "</style>\n",
              "<table border=\"1\" class=\"dataframe\">\n",
              "  <thead>\n",
              "    <tr style=\"text-align: right;\">\n",
              "      <th></th>\n",
              "      <th>id</th>\n",
              "      <th>name</th>\n",
              "      <th>age</th>\n",
              "      <th>age_range</th>\n",
              "      <th>province</th>\n",
              "      <th>city</th>\n",
              "      <th>gender</th>\n",
              "      <th>interest</th>\n",
              "      <th>interest_detail</th>\n",
              "      <th>new_age_range</th>\n",
              "    </tr>\n",
              "  </thead>\n",
              "  <tbody>\n",
              "    <tr>\n",
              "      <th>0</th>\n",
              "      <td>id_4100001227501134</td>\n",
              "      <td>Sultan</td>\n",
              "      <td>NaN</td>\n",
              "      <td>NaN</td>\n",
              "      <td>NaN</td>\n",
              "      <td>NaN</td>\n",
              "      <td>NaN</td>\n",
              "      <td>Fotografi</td>\n",
              "      <td>NaN</td>\n",
              "      <td>None</td>\n",
              "    </tr>\n",
              "    <tr>\n",
              "      <th>1</th>\n",
              "      <td>id_4100001746833302</td>\n",
              "      <td>Arief Rahman</td>\n",
              "      <td>23.0</td>\n",
              "      <td>22-30 tahun</td>\n",
              "      <td>Kalimantan Selatan</td>\n",
              "      <td>Banjarmasin</td>\n",
              "      <td>NaN</td>\n",
              "      <td>Fotografi</td>\n",
              "      <td>NaN</td>\n",
              "      <td>Gen Z</td>\n",
              "    </tr>\n",
              "    <tr>\n",
              "      <th>2</th>\n",
              "      <td>id_4100001746833302</td>\n",
              "      <td>Arief Rahman</td>\n",
              "      <td>23.0</td>\n",
              "      <td>22-30 tahun</td>\n",
              "      <td>Kalimantan Selatan</td>\n",
              "      <td>Banjarmasin</td>\n",
              "      <td>NaN</td>\n",
              "      <td>Koleksi</td>\n",
              "      <td>Batu Akik</td>\n",
              "      <td>Gen Z</td>\n",
              "    </tr>\n",
              "    <tr>\n",
              "      <th>3</th>\n",
              "      <td>id_4100001746833302</td>\n",
              "      <td>Arief Rahman</td>\n",
              "      <td>23.0</td>\n",
              "      <td>22-30 tahun</td>\n",
              "      <td>Kalimantan Selatan</td>\n",
              "      <td>Banjarmasin</td>\n",
              "      <td>NaN</td>\n",
              "      <td>Koleksi</td>\n",
              "      <td>Batu Akik</td>\n",
              "      <td>Gen Z</td>\n",
              "    </tr>\n",
              "    <tr>\n",
              "      <th>4</th>\n",
              "      <td>id_4100001746833302</td>\n",
              "      <td>Arief Rahman</td>\n",
              "      <td>23.0</td>\n",
              "      <td>22-30 tahun</td>\n",
              "      <td>Kalimantan Selatan</td>\n",
              "      <td>Banjarmasin</td>\n",
              "      <td>NaN</td>\n",
              "      <td>Koleksi</td>\n",
              "      <td>Batu Akik</td>\n",
              "      <td>Gen Z</td>\n",
              "    </tr>\n",
              "    <tr>\n",
              "      <th>5</th>\n",
              "      <td>id_4100003057541459</td>\n",
              "      <td>Wahyudi Nasukha</td>\n",
              "      <td>29.0</td>\n",
              "      <td>22-30 tahun</td>\n",
              "      <td>Jawa Timur</td>\n",
              "      <td>Pasuruan</td>\n",
              "      <td>male</td>\n",
              "      <td>Fotografi</td>\n",
              "      <td>NaN</td>\n",
              "      <td>Gen Millenial</td>\n",
              "    </tr>\n",
              "    <tr>\n",
              "      <th>6</th>\n",
              "      <td>id_4100003057541459</td>\n",
              "      <td>Wahyudi Nasukha</td>\n",
              "      <td>29.0</td>\n",
              "      <td>22-30 tahun</td>\n",
              "      <td>Jawa Timur</td>\n",
              "      <td>Pasuruan</td>\n",
              "      <td>male</td>\n",
              "      <td>Fotografi</td>\n",
              "      <td>NaN</td>\n",
              "      <td>Gen Millenial</td>\n",
              "    </tr>\n",
              "    <tr>\n",
              "      <th>7</th>\n",
              "      <td>id_4100003057541459</td>\n",
              "      <td>Wahyudi Nasukha</td>\n",
              "      <td>29.0</td>\n",
              "      <td>22-30 tahun</td>\n",
              "      <td>Jawa Timur</td>\n",
              "      <td>Pasuruan</td>\n",
              "      <td>male</td>\n",
              "      <td>Koleksi</td>\n",
              "      <td>Batu Akik</td>\n",
              "      <td>Gen Millenial</td>\n",
              "    </tr>\n",
              "    <tr>\n",
              "      <th>8</th>\n",
              "      <td>id_4100003057541459</td>\n",
              "      <td>Wahyudi Nasukha</td>\n",
              "      <td>29.0</td>\n",
              "      <td>22-30 tahun</td>\n",
              "      <td>Jawa Timur</td>\n",
              "      <td>Pasuruan</td>\n",
              "      <td>male</td>\n",
              "      <td>Koleksi</td>\n",
              "      <td>Batu Akik</td>\n",
              "      <td>Gen Millenial</td>\n",
              "    </tr>\n",
              "    <tr>\n",
              "      <th>9</th>\n",
              "      <td>id_4100003057541459</td>\n",
              "      <td>Wahyudi Nasukha</td>\n",
              "      <td>29.0</td>\n",
              "      <td>22-30 tahun</td>\n",
              "      <td>Jawa Timur</td>\n",
              "      <td>Pasuruan</td>\n",
              "      <td>male</td>\n",
              "      <td>Koleksi</td>\n",
              "      <td>Batu Akik</td>\n",
              "      <td>Gen Millenial</td>\n",
              "    </tr>\n",
              "  </tbody>\n",
              "</table>\n",
              "</div>\n",
              "      <button class=\"colab-df-convert\" onclick=\"convertToInteractive('df-06951294-fe78-429c-b0a2-f7f810e71f40')\"\n",
              "              title=\"Convert this dataframe to an interactive table.\"\n",
              "              style=\"display:none;\">\n",
              "        \n",
              "  <svg xmlns=\"http://www.w3.org/2000/svg\" height=\"24px\"viewBox=\"0 0 24 24\"\n",
              "       width=\"24px\">\n",
              "    <path d=\"M0 0h24v24H0V0z\" fill=\"none\"/>\n",
              "    <path d=\"M18.56 5.44l.94 2.06.94-2.06 2.06-.94-2.06-.94-.94-2.06-.94 2.06-2.06.94zm-11 1L8.5 8.5l.94-2.06 2.06-.94-2.06-.94L8.5 2.5l-.94 2.06-2.06.94zm10 10l.94 2.06.94-2.06 2.06-.94-2.06-.94-.94-2.06-.94 2.06-2.06.94z\"/><path d=\"M17.41 7.96l-1.37-1.37c-.4-.4-.92-.59-1.43-.59-.52 0-1.04.2-1.43.59L10.3 9.45l-7.72 7.72c-.78.78-.78 2.05 0 2.83L4 21.41c.39.39.9.59 1.41.59.51 0 1.02-.2 1.41-.59l7.78-7.78 2.81-2.81c.8-.78.8-2.07 0-2.86zM5.41 20L4 18.59l7.72-7.72 1.47 1.35L5.41 20z\"/>\n",
              "  </svg>\n",
              "      </button>\n",
              "      \n",
              "  <style>\n",
              "    .colab-df-container {\n",
              "      display:flex;\n",
              "      flex-wrap:wrap;\n",
              "      gap: 12px;\n",
              "    }\n",
              "\n",
              "    .colab-df-convert {\n",
              "      background-color: #E8F0FE;\n",
              "      border: none;\n",
              "      border-radius: 50%;\n",
              "      cursor: pointer;\n",
              "      display: none;\n",
              "      fill: #1967D2;\n",
              "      height: 32px;\n",
              "      padding: 0 0 0 0;\n",
              "      width: 32px;\n",
              "    }\n",
              "\n",
              "    .colab-df-convert:hover {\n",
              "      background-color: #E2EBFA;\n",
              "      box-shadow: 0px 1px 2px rgba(60, 64, 67, 0.3), 0px 1px 3px 1px rgba(60, 64, 67, 0.15);\n",
              "      fill: #174EA6;\n",
              "    }\n",
              "\n",
              "    [theme=dark] .colab-df-convert {\n",
              "      background-color: #3B4455;\n",
              "      fill: #D2E3FC;\n",
              "    }\n",
              "\n",
              "    [theme=dark] .colab-df-convert:hover {\n",
              "      background-color: #434B5C;\n",
              "      box-shadow: 0px 1px 3px 1px rgba(0, 0, 0, 0.15);\n",
              "      filter: drop-shadow(0px 1px 2px rgba(0, 0, 0, 0.3));\n",
              "      fill: #FFFFFF;\n",
              "    }\n",
              "  </style>\n",
              "\n",
              "      <script>\n",
              "        const buttonEl =\n",
              "          document.querySelector('#df-06951294-fe78-429c-b0a2-f7f810e71f40 button.colab-df-convert');\n",
              "        buttonEl.style.display =\n",
              "          google.colab.kernel.accessAllowed ? 'block' : 'none';\n",
              "\n",
              "        async function convertToInteractive(key) {\n",
              "          const element = document.querySelector('#df-06951294-fe78-429c-b0a2-f7f810e71f40');\n",
              "          const dataTable =\n",
              "            await google.colab.kernel.invokeFunction('convertToInteractive',\n",
              "                                                     [key], {});\n",
              "          if (!dataTable) return;\n",
              "\n",
              "          const docLinkHtml = 'Like what you see? Visit the ' +\n",
              "            '<a target=\"_blank\" href=https://colab.research.google.com/notebooks/data_table.ipynb>data table notebook</a>'\n",
              "            + ' to learn more about interactive tables.';\n",
              "          element.innerHTML = '';\n",
              "          dataTable['output_type'] = 'display_data';\n",
              "          await google.colab.output.renderOutput(dataTable, element);\n",
              "          const docLink = document.createElement('div');\n",
              "          docLink.innerHTML = docLinkHtml;\n",
              "          element.appendChild(docLink);\n",
              "        }\n",
              "      </script>\n",
              "    </div>\n",
              "  </div>\n",
              "  "
            ]
          },
          "metadata": {},
          "execution_count": 29
        }
      ]
    },
    {
      "cell_type": "code",
      "source": [
        "df_update['new_age_range'].value_counts()"
      ],
      "metadata": {
        "colab": {
          "base_uri": "https://localhost:8080/",
          "height": 0
        },
        "id": "OYWzvQWk63hd",
        "outputId": "caa8ade7-4afb-4734-e374-ee9aea8803dd"
      },
      "execution_count": 30,
      "outputs": [
        {
          "output_type": "execute_result",
          "data": {
            "text/plain": [
              "Gen Z            164943\n",
              "Gen Millenial     91155\n",
              "Gen X              7593\n",
              "Baby Boomers       1337\n",
              "Name: new_age_range, dtype: int64"
            ]
          },
          "metadata": {},
          "execution_count": 30
        }
      ]
    },
    {
      "cell_type": "code",
      "source": [
        "df13 = df_update['new_age_range'].value_counts()\n",
        "df13.plot(kind='pie', autopct='%1.0f%%') \n",
        "plt.title('New Age Range')\n",
        "\n",
        "plt.show() "
      ],
      "metadata": {
        "colab": {
          "base_uri": "https://localhost:8080/",
          "height": 264
        },
        "id": "IU65FQLpCRmk",
        "outputId": "6fabd79f-567c-4946-cc20-6850bcdee341"
      },
      "execution_count": 46,
      "outputs": [
        {
          "output_type": "display_data",
          "data": {
            "text/plain": [
              "<Figure size 432x288 with 1 Axes>"
            ],
            "image/png": "[encoded data removed]"
          },
          "metadata": {}
        }
      ]
    },
    {
      "cell_type": "markdown",
      "source": [
        "5. Apabila klien ingin membuat suatu kegiatan di daerah Jawa Timur khusus untuk audiens dengan Kategori Millenial, kegiatan apa apa saja yang sekiranya akan anda sarankan kepada klien?"
      ],
      "metadata": {
        "id": "SWxeY-o37NWO"
      }
    },
    {
      "cell_type": "code",
      "source": [
        "df_jatim = df_update[df_update['province'] == 'Jawa Timur']\n",
        "df_jatim_millenial = df_update[df_update['new_age_range'] == 'Gen Millenial']"
      ],
      "metadata": {
        "id": "eGxJF34g68yU"
      },
      "execution_count": 39,
      "outputs": []
    },
    {
      "cell_type": "code",
      "source": [
        "df12 = df_jatim_millenial['interest'].value_counts()\n",
        "df12.plot(kind='bar') \n",
        "plt.title('Interest Millenial in Jatim')\n",
        "plt.ylabel('Count')\n",
        "plt.show() "
      ],
      "metadata": {
        "colab": {
          "base_uri": "https://localhost:8080/",
          "height": 347
        },
        "id": "1c74h69H7XhV",
        "outputId": "2d182a34-12ec-458c-b204-69e6e35b604c"
      },
      "execution_count": 40,
      "outputs": [
        {
          "output_type": "display_data",
          "data": {
            "text/plain": [
              "<Figure size 432x288 with 1 Axes>"
            ],
            "image/png": "[encoded data removed]"
          },
          "metadata": {
            "needs_background": "light"
          }
        }
      ]
    },
    {
      "cell_type": "code",
      "source": [
        "df12.value_counts"
      ],
      "metadata": {
        "colab": {
          "base_uri": "https://localhost:8080/",
          "height": 0
        },
        "id": "xfpOqcGpBitE",
        "outputId": "9f4aae2d-d269-4239-9830-33518ebf14aa"
      },
      "execution_count": 44,
      "outputs": [
        {
          "output_type": "execute_result",
          "data": {
            "text/plain": [
              "<bound method IndexOpsMixin.value_counts of Kuliner           30461\n",
              "Pecinta Burung    13371\n",
              "Pakaian           11867\n",
              "Berkebun          10934\n",
              "Fotografi          9239\n",
              "Sepatu             4576\n",
              "Memancing          2692\n",
              "Koleksi            2471\n",
              "Memasak            1035\n",
              "Aksesories          835\n",
              "Kecantikan          749\n",
              "Membaca             727\n",
              "Dasi                689\n",
              "Menjahit            516\n",
              "Tas                 398\n",
              "Musik               283\n",
              "Topi                100\n",
              "Menari               70\n",
              "Komik                51\n",
              "Fitness              36\n",
              "kebaya               26\n",
              "Perhiasan            23\n",
              "Sandal                6\n",
              "Name: interest, dtype: int64>"
            ]
          },
          "metadata": {},
          "execution_count": 44
        }
      ]
    }
  ]
}